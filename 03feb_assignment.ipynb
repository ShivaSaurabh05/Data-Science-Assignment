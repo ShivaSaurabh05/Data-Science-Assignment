{
 "cells": [
  {
   "cell_type": "markdown",
   "id": "f8edcda8-dd7f-4f5a-9bb9-8ac43c3e5531",
   "metadata": {},
   "source": [
    "Q1. Which keyword is used to create a function? Create a function to return a list of odd numbers in the  range of 1 to 25. \n"
   ]
  },
  {
   "cell_type": "markdown",
   "id": "d366f591-2b8f-4efd-bd8f-273cc7bf6622",
   "metadata": {},
   "source": [
    "--> def keyword is used to create a function."
   ]
  },
  {
   "cell_type": "code",
   "execution_count": 1,
   "id": "8919fee0-2bf1-4503-a6ec-2fd83c325aa6",
   "metadata": {},
   "outputs": [
    {
     "name": "stdout",
     "output_type": "stream",
     "text": [
      "[1, 3, 5, 7, 9, 11, 13, 15, 17, 19, 21, 23, 25]\n"
     ]
    }
   ],
   "source": [
    "# function to return a list of odd numbers in the range of 1 to 25.\n",
    "def odd_num(n):\n",
    "    l = []\n",
    "    for i in range(1,n+1,1):\n",
    "        if i%2!=0:\n",
    "            l.append(i)\n",
    "    return l\n",
    "n = 25\n",
    "ans = odd_num(n)\n",
    "print(ans)"
   ]
  },
  {
   "cell_type": "markdown",
   "id": "4940f741-2da6-4b8b-9598-12eed997922e",
   "metadata": {},
   "source": [
    "Q2. Why *args and **kwargs is used in some functions? Create a function each for *args and **kwargs  to demonstrate their use."
   ]
  },
  {
   "cell_type": "markdown",
   "id": "7cc2230e-62ff-4d07-9621-1b06bdabb63e",
   "metadata": {},
   "source": [
    "--> In some case we want our function to take many inputs(depends on user) for this we can not use parameters to take input in function \n",
    "there we use *args and **kwargs\n",
    "where *args means:- number of non-keyword arguments\n",
    "and **kwargs means:- number of keyword arguments.\n",
    "Note:- args type is Tuple where as kwargs type is dictionary."
   ]
  },
  {
   "cell_type": "code",
   "execution_count": 3,
   "id": "2800ea6a-bc2b-4233-96d0-05a995eae2c9",
   "metadata": {},
   "outputs": [
    {
     "name": "stdout",
     "output_type": "stream",
     "text": [
      "sum = 10\n",
      "sum = 15\n"
     ]
    }
   ],
   "source": [
    "# Example function for *args\n",
    "def args(*shiva):\n",
    "    sum = 0\n",
    "    for i in shiva:\n",
    "        sum += i\n",
    "    return f'sum = {sum}'\n",
    "print(args(1,2,3,4))\n",
    "print(args(1,2,3,4,5))"
   ]
  },
  {
   "cell_type": "code",
   "execution_count": 64,
   "id": "7e23444d-80a2-4737-8fee-a8f4e3fa1304",
   "metadata": {},
   "outputs": [
    {
     "name": "stdout",
     "output_type": "stream",
     "text": [
      "user_first_name is= shiva\n",
      "user_last_name is= saurabh\n",
      "user_reg_no is= 17\n"
     ]
    }
   ],
   "source": [
    "# Example function for **kwargs\n",
    "def kwargs(**shiva):\n",
    "    for i,j in shiva.items():\n",
    "        print(f\"{i} is= {j}\")\n",
    "kwargs(user_first_name=\"shiva\",user_last_name=\"saurabh\",user_reg_no=17)"
   ]
  },
  {
   "cell_type": "code",
   "execution_count": 5,
   "id": "4f828a1b-3b77-4d0a-a3f0-beb3e04bea63",
   "metadata": {},
   "outputs": [
    {
     "name": "stdout",
     "output_type": "stream",
     "text": [
      "user_first_name is= shiva\n",
      "user_last_name is= saurabh\n",
      "user_reg_no is= 17\n",
      "user_mob is= 786786\n"
     ]
    }
   ],
   "source": [
    "# adding one more keyword argument to the function\n",
    "kwargs(user_first_name=\"shiva\",user_last_name=\"saurabh\",user_reg_no=17,user_mob=786786)"
   ]
  },
  {
   "cell_type": "markdown",
   "id": "feefbed0-1351-48f9-b6a0-3bca64df08b0",
   "metadata": {},
   "source": [
    "Q3.  What is an iterator in python? Name the method used to initialise the iterator object and the method  used for iteration. Use these methods to print the first five elements of the given list [2, 4, 6, 8, 10, 12, 14,  16, 18, 20]. \n"
   ]
  },
  {
   "cell_type": "markdown",
   "id": "e70e6569-89b8-4ace-90e5-7f26c1c40e4b",
   "metadata": {},
   "source": [
    "--> In python iterator is an object,which implements the iteration protocol.\n",
    "\n",
    "--> iterators give one element at a time.\n",
    "\n",
    "--> iterator initialise by iter() and next() is used for iteration.\n",
    "\n",
    "    example:s = \"shiva\"\n",
    "            s1 = iter(s)"
   ]
  },
  {
   "cell_type": "code",
   "execution_count": 10,
   "id": "9fb3c7e8-d794-4041-8ed1-4cdef33a7198",
   "metadata": {},
   "outputs": [
    {
     "name": "stdout",
     "output_type": "stream",
     "text": [
      "2\n",
      "4\n",
      "6\n",
      "8\n",
      "10\n"
     ]
    }
   ],
   "source": [
    "# Use these methods to print the first five elements of the given list [2, 4, 6, 8, 10, 12, 14, 16, 18, 20].\n",
    "list = [2, 4, 6, 8, 10, 12, 14, 16, 18, 20]\n",
    "l = iter(list)\n",
    "for i in range(5):\n",
    "    print(next(l))"
   ]
  },
  {
   "cell_type": "markdown",
   "id": "8b6f7535-8c92-4dd9-b9c6-463f222bea0e",
   "metadata": {},
   "source": [
    "Q4.  What is a generator function in python? Why yield keyword is used? Give an example of a generator  function. \n"
   ]
  },
  {
   "cell_type": "markdown",
   "id": "de04be5b-bf51-4427-824a-b3ed3a44eaaa",
   "metadata": {},
   "source": [
    "--> Python's generator functions are used to create iterators which can be traversed like list, tuple and return a traversal object. \n",
    "\n",
    "--> It helps to transverse all the items one at a time present in the iterator.\n",
    "\n",
    "--> difference between generator function and normal function is we use 'return' to return values and in generator we use 'yield' to excute iterator. \n",
    "\n",
    "            ##yield keyword\n",
    "            --> Yield keyword is used to return from the function without destroying the state of a local variable."
   ]
  },
  {
   "cell_type": "code",
   "execution_count": 14,
   "id": "d97cd548-818d-47c4-8d44-d6a658eddef0",
   "metadata": {},
   "outputs": [],
   "source": [
    "# Give an example of a generator function.\n",
    "def shiva_generator():\n",
    "    print('First item')\n",
    "    yield 1\n",
    "\n",
    "    print('Second item')\n",
    "    yield 2\n",
    "\n",
    "    print('Last item')\n",
    "    yield 3"
   ]
  },
  {
   "cell_type": "code",
   "execution_count": 15,
   "id": "40805979-ca3c-4247-9e13-ae27538e1d02",
   "metadata": {},
   "outputs": [],
   "source": [
    "shiva = shiva_generator()"
   ]
  },
  {
   "cell_type": "code",
   "execution_count": 17,
   "id": "edc90676-9aac-4c81-b4a5-d17bc9eca22e",
   "metadata": {},
   "outputs": [
    {
     "name": "stdout",
     "output_type": "stream",
     "text": [
      "First item\n"
     ]
    },
    {
     "data": {
      "text/plain": [
       "1"
      ]
     },
     "execution_count": 17,
     "metadata": {},
     "output_type": "execute_result"
    }
   ],
   "source": [
    "next(shiva)"
   ]
  },
  {
   "cell_type": "code",
   "execution_count": 18,
   "id": "703e938b-d279-43f0-acc4-279c7ef25774",
   "metadata": {},
   "outputs": [
    {
     "name": "stdout",
     "output_type": "stream",
     "text": [
      "Second item\n"
     ]
    },
    {
     "data": {
      "text/plain": [
       "2"
      ]
     },
     "execution_count": 18,
     "metadata": {},
     "output_type": "execute_result"
    }
   ],
   "source": [
    "next(shiva)"
   ]
  },
  {
   "cell_type": "code",
   "execution_count": 19,
   "id": "9ee5522a-d0a1-4010-8d15-65edb25623af",
   "metadata": {},
   "outputs": [
    {
     "name": "stdout",
     "output_type": "stream",
     "text": [
      "Last item\n"
     ]
    },
    {
     "data": {
      "text/plain": [
       "3"
      ]
     },
     "execution_count": 19,
     "metadata": {},
     "output_type": "execute_result"
    }
   ],
   "source": [
    "next(shiva)"
   ]
  },
  {
   "cell_type": "markdown",
   "id": "f32c6f50-2d2e-4e62-ac5d-4356d390584f",
   "metadata": {},
   "source": [
    "Q5. Create a generator function for prime numbers less than 1000. Use the next() method to print the  first 20 prime numbers. \n"
   ]
  },
  {
   "cell_type": "code",
   "execution_count": 65,
   "id": "7f8d0089-418a-427f-964b-00e73fea6b90",
   "metadata": {},
   "outputs": [],
   "source": [
    "def prime_num():\n",
    "    for num in range(2,1001):\n",
    "        if num > 1:\n",
    "            for i in range(2, num):\n",
    "                if (num % i) == 0:\n",
    "                    break\n",
    "            else:\n",
    "                yield num"
   ]
  },
  {
   "cell_type": "code",
   "execution_count": 66,
   "id": "4ad39658-154b-4e3e-a38a-ea02ea393d3f",
   "metadata": {},
   "outputs": [],
   "source": [
    "first_20 = prime_num()"
   ]
  },
  {
   "cell_type": "code",
   "execution_count": 67,
   "id": "cb48da15-cadc-4a09-81d9-cc96995bcc23",
   "metadata": {},
   "outputs": [
    {
     "name": "stdout",
     "output_type": "stream",
     "text": [
      "2\n",
      "3\n",
      "5\n",
      "7\n",
      "11\n",
      "13\n",
      "17\n",
      "19\n",
      "23\n",
      "29\n",
      "31\n",
      "37\n",
      "41\n",
      "43\n",
      "47\n",
      "53\n",
      "59\n",
      "61\n",
      "67\n",
      "71\n"
     ]
    }
   ],
   "source": [
    "for i in range(20):\n",
    "    print(next(first_20))"
   ]
  },
  {
   "cell_type": "markdown",
   "id": "5d8cd59f-6331-40e5-af4f-d7ec7736805a",
   "metadata": {},
   "source": [
    "Q6. Write a python program to print the first 10 Fibonacci numbers using a while loop. "
   ]
  },
  {
   "cell_type": "code",
   "execution_count": 18,
   "id": "862140f7-5567-47f6-991f-f8f294b17d03",
   "metadata": {},
   "outputs": [
    {
     "name": "stdout",
     "output_type": "stream",
     "text": [
      "0\n",
      "1\n",
      "1\n",
      "2\n",
      "3\n",
      "5\n",
      "8\n",
      "13\n",
      "21\n",
      "34\n"
     ]
    }
   ],
   "source": [
    "n=10\n",
    "counter = 1\n",
    "a,b=0,1\n",
    "while n>=counter:\n",
    "    print(a)\n",
    "    c = a+b\n",
    "    a = b\n",
    "    b = c\n",
    "    counter+=1"
   ]
  },
  {
   "cell_type": "markdown",
   "id": "b2a5be6f-8f5b-4929-8397-589fb65932ab",
   "metadata": {},
   "source": [
    "Q7. Write a List Comprehension to iterate through the given string: ‘pwskills’. \n",
    "Expected output: ['p', 'w', 's', 'k', 'i', 'l', 'l', 's']  \n"
   ]
  },
  {
   "cell_type": "code",
   "execution_count": 20,
   "id": "772c5e27-ac26-4b3c-897f-262aa1b4aa4d",
   "metadata": {},
   "outputs": [
    {
     "data": {
      "text/plain": [
       "['p', 'w', 's', 'k', 'i', 'l', 'l', 's']"
      ]
     },
     "execution_count": 20,
     "metadata": {},
     "output_type": "execute_result"
    }
   ],
   "source": [
    "string=\"pwskills\"\n",
    "[i for i in string]"
   ]
  },
  {
   "cell_type": "markdown",
   "id": "f76c9307-7c1d-4db2-9373-43bd43a8e888",
   "metadata": {},
   "source": [
    "Q8. Write a python program to check whether a given number is Palindrome or not using a while loop. \n"
   ]
  },
  {
   "cell_type": "code",
   "execution_count": 14,
   "id": "7944eedd-ea8f-45cc-a53f-e515584173a8",
   "metadata": {},
   "outputs": [
    {
     "name": "stdin",
     "output_type": "stream",
     "text": [
      "Enter a number: 121\n"
     ]
    },
    {
     "name": "stdout",
     "output_type": "stream",
     "text": [
      "121 is palindrome!\n"
     ]
    }
   ],
   "source": [
    "num = int(input(\"Enter a number:\"))\n",
    "temp = num\n",
    "rev = 0\n",
    "while num>0 :\n",
    "    digit = num%10\n",
    "    rev = rev*10+digit\n",
    "    num = num//10\n",
    "if(temp == rev):\n",
    "    print(f\"{temp} is palindrome!\")\n",
    "else:\n",
    "    print(f\"{temp} is not a palindrome!\")"
   ]
  },
  {
   "cell_type": "markdown",
   "id": "9b7ad511-9631-4af8-a812-44e2d62f72ad",
   "metadata": {},
   "source": [
    "Q9. Write a code to print odd numbers from 1 to 100 using list comprehension. \n",
    "Note: Use a list comprehension to create a list from 1 to 100 and use another List comprehension to filter  out odd numbers. \n"
   ]
  },
  {
   "cell_type": "code",
   "execution_count": 28,
   "id": "3275fd7e-78c0-47cb-b520-96c12396cee9",
   "metadata": {},
   "outputs": [
    {
     "data": {
      "text/plain": [
       "[1,\n",
       " 3,\n",
       " 5,\n",
       " 7,\n",
       " 9,\n",
       " 11,\n",
       " 13,\n",
       " 15,\n",
       " 17,\n",
       " 19,\n",
       " 21,\n",
       " 23,\n",
       " 25,\n",
       " 27,\n",
       " 29,\n",
       " 31,\n",
       " 33,\n",
       " 35,\n",
       " 37,\n",
       " 39,\n",
       " 41,\n",
       " 43,\n",
       " 45,\n",
       " 47,\n",
       " 49,\n",
       " 51,\n",
       " 53,\n",
       " 55,\n",
       " 57,\n",
       " 59,\n",
       " 61,\n",
       " 63,\n",
       " 65,\n",
       " 67,\n",
       " 69,\n",
       " 71,\n",
       " 73,\n",
       " 75,\n",
       " 77,\n",
       " 79,\n",
       " 81,\n",
       " 83,\n",
       " 85,\n",
       " 87,\n",
       " 89,\n",
       " 91,\n",
       " 93,\n",
       " 95,\n",
       " 97,\n",
       " 99]"
      ]
     },
     "execution_count": 28,
     "metadata": {},
     "output_type": "execute_result"
    }
   ],
   "source": [
    "num = [i for i in range(1,101,1)]\n",
    "odd_num = [i for i in num if i%2!=0]\n",
    "odd_num"
   ]
  },
  {
   "cell_type": "code",
   "execution_count": null,
   "id": "1e45637d-0aa6-4ed1-9415-8686ee6499e0",
   "metadata": {},
   "outputs": [],
   "source": []
  }
 ],
 "metadata": {
  "kernelspec": {
   "display_name": "Python 3 (ipykernel)",
   "language": "python",
   "name": "python3"
  },
  "language_info": {
   "codemirror_mode": {
    "name": "ipython",
    "version": 3
   },
   "file_extension": ".py",
   "mimetype": "text/x-python",
   "name": "python",
   "nbconvert_exporter": "python",
   "pygments_lexer": "ipython3",
   "version": "3.10.8"
  }
 },
 "nbformat": 4,
 "nbformat_minor": 5
}
