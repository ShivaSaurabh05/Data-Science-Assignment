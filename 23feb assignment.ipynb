{
 "cells": [
  {
   "cell_type": "markdown",
   "id": "d7adedad-0a8f-43e6-9555-a1eb21c440eb",
   "metadata": {},
   "source": [
    "Q1. Create a Pandas Series that contains the following data: 4, 8, 15, 16, 23, and 42. Then, print the series."
   ]
  },
  {
   "cell_type": "code",
   "execution_count": 1,
   "id": "8a8557f0-418a-48da-84c0-57999c05b021",
   "metadata": {},
   "outputs": [
    {
     "name": "stdout",
     "output_type": "stream",
     "text": [
      "0     4\n",
      "1     8\n",
      "2    15\n",
      "3    16\n",
      "4    23\n",
      "5    42\n",
      "dtype: int64\n"
     ]
    }
   ],
   "source": [
    "import pandas as pd\n",
    "data = pd.Series([4, 8, 15, 16, 23, 42])\n",
    "print(data)"
   ]
  },
  {
   "cell_type": "markdown",
   "id": "4c01f31e-fc72-4f25-ab2a-73cc5393cd14",
   "metadata": {},
   "source": [
    "Q2. Create a variable of list type containing 10 elements in it, and apply pandas.Series function on the\n",
    "variable print it."
   ]
  },
  {
   "cell_type": "code",
   "execution_count": 2,
   "id": "67d6074a-7603-42bf-af7f-c349d9916d85",
   "metadata": {},
   "outputs": [
    {
     "name": "stdout",
     "output_type": "stream",
     "text": [
      "0     10\n",
      "1     20\n",
      "2     30\n",
      "3     40\n",
      "4     50\n",
      "5     60\n",
      "6     70\n",
      "7     80\n",
      "8     90\n",
      "9    100\n",
      "dtype: int64\n"
     ]
    }
   ],
   "source": [
    "import pandas as pd\n",
    "my_list = [10, 20, 30, 40, 50, 60, 70, 80, 90, 100]\n",
    "my_series = pd.Series(my_list)\n",
    "print(my_series)"
   ]
  },
  {
   "cell_type": "markdown",
   "id": "b7df4882-637e-4bcc-a344-c8996ab58731",
   "metadata": {},
   "source": [
    "Q3. Create a Pandas DataFrame that contains the following data:"
   ]
  },
  {
   "cell_type": "code",
   "execution_count": 4,
   "id": "a3620cdb-4a1e-4837-a04d-8668873cb5b9",
   "metadata": {},
   "outputs": [
    {
     "data": {
      "text/html": [
       "<div>\n",
       "<style scoped>\n",
       "    .dataframe tbody tr th:only-of-type {\n",
       "        vertical-align: middle;\n",
       "    }\n",
       "\n",
       "    .dataframe tbody tr th {\n",
       "        vertical-align: top;\n",
       "    }\n",
       "\n",
       "    .dataframe thead th {\n",
       "        text-align: right;\n",
       "    }\n",
       "</style>\n",
       "<table border=\"1\" class=\"dataframe\">\n",
       "  <thead>\n",
       "    <tr style=\"text-align: right;\">\n",
       "      <th></th>\n",
       "      <th>Name</th>\n",
       "      <th>Age</th>\n",
       "      <th>Gender</th>\n",
       "    </tr>\n",
       "  </thead>\n",
       "  <tbody>\n",
       "    <tr>\n",
       "      <th>0</th>\n",
       "      <td>Alice</td>\n",
       "      <td>25</td>\n",
       "      <td>Female</td>\n",
       "    </tr>\n",
       "    <tr>\n",
       "      <th>1</th>\n",
       "      <td>Bob</td>\n",
       "      <td>30</td>\n",
       "      <td>Male</td>\n",
       "    </tr>\n",
       "    <tr>\n",
       "      <th>2</th>\n",
       "      <td>Claire</td>\n",
       "      <td>27</td>\n",
       "      <td>Female</td>\n",
       "    </tr>\n",
       "  </tbody>\n",
       "</table>\n",
       "</div>"
      ],
      "text/plain": [
       "     Name  Age  Gender\n",
       "0   Alice   25  Female\n",
       "1     Bob   30    Male\n",
       "2  Claire   27  Female"
      ]
     },
     "execution_count": 4,
     "metadata": {},
     "output_type": "execute_result"
    }
   ],
   "source": [
    "import pandas as pd\n",
    "data = {\"Name\":[\"Alice\",\"Bob\",\"Claire\"],\n",
    "        \"Age\":[25,30,27],\n",
    "        \"Gender\":[\"Female\",\"Male\",\"Female\"]}\n",
    "df = pd.DataFrame(data)\n",
    "df"
   ]
  },
  {
   "cell_type": "markdown",
   "id": "d114b8af-02ac-46ae-bd37-8ebe57f3289d",
   "metadata": {},
   "source": [
    "Q4. What is ‘DataFrame’ in pandas and how is it different from pandas.series? Explain with an example."
   ]
  },
  {
   "cell_type": "markdown",
   "id": "cd76e072-4715-4461-ab97-04039cfd068c",
   "metadata": {},
   "source": [
    "* The main differences between a DataFrame and a Series are:\n",
    "\n",
    "    * A DataFrame is a two-dimensional table, while a Series is a one-dimensional labeled array.\n",
    "    * A DataFrame can have multiple columns, while a Series has only one column.\n",
    "    * A Series is derived from a single column of a DataFrame, while a DataFrame can contain multiple columns of different data types."
   ]
  },
  {
   "cell_type": "code",
   "execution_count": 5,
   "id": "1e67c6a9-6a14-4719-9683-e9d1c5044577",
   "metadata": {},
   "outputs": [
    {
     "name": "stdout",
     "output_type": "stream",
     "text": [
      "    name  age gender\n",
      "0   John   25      M\n",
      "1  Alice   32      F\n",
      "2    Bob   18      M\n",
      "3   Mary   42      F \n",
      "\n",
      "0    25\n",
      "1    32\n",
      "2    18\n",
      "3    42\n",
      "Name: age, dtype: int64\n"
     ]
    }
   ],
   "source": [
    "# Example\n",
    "import pandas as pd\n",
    "\n",
    "\n",
    "data = {'name': ['John', 'Alice', 'Bob', 'Mary'],\n",
    "        'age': [25, 32, 18, 42],\n",
    "        'gender': ['M', 'F', 'M', 'F']}\n",
    "\n",
    "df = pd.DataFrame(data)\n",
    "age_series = df['age']\n",
    "\n",
    "print(df,\"\\n\")\n",
    "print(age_series)"
   ]
  },
  {
   "cell_type": "markdown",
   "id": "a9bcd63c-9065-4863-975d-efa5762f50d0",
   "metadata": {},
   "source": [
    "Q5. What are some common functions you can use to manipulate data in a Pandas DataFrame? Can\n",
    "you give an example of when you might use one of these functions?"
   ]
  },
  {
   "cell_type": "markdown",
   "id": "8d3b091d-e0b8-44d2-820d-7c93e31d7055",
   "metadata": {},
   "source": [
    "* Pandas offers a wide range of functions to manipulate data in a DataFrame. Here are some commonly used functions:"
   ]
  },
  {
   "cell_type": "code",
   "execution_count": null,
   "id": "2f4e6a13-fbb5-4f85-be25-3b77a9c502b5",
   "metadata": {},
   "outputs": [],
   "source": [
    "# drop(): Removes specified rows or columns from the DataFrame. For example, you can remove a column by \n",
    "#        specifying its name:\n",
    "\n",
    "df.drop('column_name', axis=1, inplace=True)"
   ]
  },
  {
   "cell_type": "code",
   "execution_count": null,
   "id": "0dfadb25-9925-43e0-b84f-d7c2db512c6f",
   "metadata": {},
   "outputs": [],
   "source": [
    "# sort_values(): Sorts the DataFrame by one or more columns. For example, you can sort the DataFrame by the \n",
    "#                'age' column in ascending order:\n",
    "\n",
    "df.sort_values(by='age', ascending=True, inplace=True)"
   ]
  },
  {
   "cell_type": "code",
   "execution_count": null,
   "id": "1d35befd-750e-491a-bb21-1ecad77e9642",
   "metadata": {},
   "outputs": [],
   "source": [
    "# groupby(): Groups the DataFrame by one or more columns and applies a function to each group. \n",
    "#            For example, you can group the DataFrame by the 'gender' column and calculate the mean age for each group:\n",
    "\n",
    "df.groupby('gender')['age'].mean()"
   ]
  },
  {
   "cell_type": "markdown",
   "id": "bf13cd98-6aad-4fe9-bf49-818277db67cc",
   "metadata": {},
   "source": [
    "Q6. Which of the following is mutable in nature Series, DataFrame, Panel?\n",
    "\n",
    "* Series and DataFrame are mutable objects"
   ]
  },
  {
   "cell_type": "markdown",
   "id": "d6894c7a-e86d-41e5-84a7-899414e16a92",
   "metadata": {},
   "source": [
    "Q7. Create a DataFrame using multiple Series. Explain with an example."
   ]
  },
  {
   "cell_type": "code",
   "execution_count": 9,
   "id": "aeb43f96-aa25-4530-bb0e-57cf5421dcb6",
   "metadata": {},
   "outputs": [
    {
     "data": {
      "text/html": [
       "<div>\n",
       "<style scoped>\n",
       "    .dataframe tbody tr th:only-of-type {\n",
       "        vertical-align: middle;\n",
       "    }\n",
       "\n",
       "    .dataframe tbody tr th {\n",
       "        vertical-align: top;\n",
       "    }\n",
       "\n",
       "    .dataframe thead th {\n",
       "        text-align: right;\n",
       "    }\n",
       "</style>\n",
       "<table border=\"1\" class=\"dataframe\">\n",
       "  <thead>\n",
       "    <tr style=\"text-align: right;\">\n",
       "      <th></th>\n",
       "      <th>Number</th>\n",
       "      <th>Name</th>\n",
       "      <th>Gender</th>\n",
       "    </tr>\n",
       "  </thead>\n",
       "  <tbody>\n",
       "    <tr>\n",
       "      <th>0</th>\n",
       "      <td>1</td>\n",
       "      <td>shiva</td>\n",
       "      <td>M</td>\n",
       "    </tr>\n",
       "    <tr>\n",
       "      <th>1</th>\n",
       "      <td>2</td>\n",
       "      <td>aman</td>\n",
       "      <td>M</td>\n",
       "    </tr>\n",
       "    <tr>\n",
       "      <th>2</th>\n",
       "      <td>3</td>\n",
       "      <td>dev</td>\n",
       "      <td>M</td>\n",
       "    </tr>\n",
       "    <tr>\n",
       "      <th>3</th>\n",
       "      <td>4</td>\n",
       "      <td>mano</td>\n",
       "      <td>M</td>\n",
       "    </tr>\n",
       "    <tr>\n",
       "      <th>4</th>\n",
       "      <td>5</td>\n",
       "      <td>amit</td>\n",
       "      <td>M</td>\n",
       "    </tr>\n",
       "  </tbody>\n",
       "</table>\n",
       "</div>"
      ],
      "text/plain": [
       "   Number   Name Gender\n",
       "0       1  shiva      M\n",
       "1       2   aman      M\n",
       "2       3    dev      M\n",
       "3       4   mano      M\n",
       "4       5   amit      M"
      ]
     },
     "execution_count": 9,
     "metadata": {},
     "output_type": "execute_result"
    }
   ],
   "source": [
    "import pandas as pd\n",
    "s1 = pd.Series([1,2,3,4,5])\n",
    "s2 = pd.Series([\"shiva\",\"aman\",\"dev\",\"mano\",\"amit\"])\n",
    "s3 = pd.Series([\"M\",\"M\",\"M\",\"M\",\"M\"])\n",
    "df = pd.DataFrame({\"Number\":s1,\"Name\":s2,\"Gender\":s3})\n",
    "df"
   ]
  },
  {
   "cell_type": "code",
   "execution_count": 7,
   "id": "3d1438de-7307-499d-921c-59cdf6183bc7",
   "metadata": {},
   "outputs": [
    {
     "data": {
      "text/plain": [
       "pandas.core.frame.DataFrame"
      ]
     },
     "execution_count": 7,
     "metadata": {},
     "output_type": "execute_result"
    }
   ],
   "source": [
    "type(df)"
   ]
  },
  {
   "cell_type": "code",
   "execution_count": null,
   "id": "c8ba23d3-e1dd-4d30-942e-6be31c1bf61a",
   "metadata": {},
   "outputs": [],
   "source": []
  }
 ],
 "metadata": {
  "kernelspec": {
   "display_name": "Python 3 (ipykernel)",
   "language": "python",
   "name": "python3"
  },
  "language_info": {
   "codemirror_mode": {
    "name": "ipython",
    "version": 3
   },
   "file_extension": ".py",
   "mimetype": "text/x-python",
   "name": "python",
   "nbconvert_exporter": "python",
   "pygments_lexer": "ipython3",
   "version": "3.10.8"
  }
 },
 "nbformat": 4,
 "nbformat_minor": 5
}
