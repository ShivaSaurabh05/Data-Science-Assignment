{
 "cells": [
  {
   "cell_type": "markdown",
   "id": "0be64765-4c4b-47f4-ae85-8e7c8c1d7225",
   "metadata": {},
   "source": [
    "1. Write a program to accept percentage from the user and display the grade according to the following criteria."
   ]
  },
  {
   "cell_type": "code",
   "execution_count": 4,
   "id": "2d57f12d-aeb9-44ec-9d74-453200a87a85",
   "metadata": {},
   "outputs": [
    {
     "name": "stdin",
     "output_type": "stream",
     "text": [
      "enter grade:-  96\n"
     ]
    },
    {
     "name": "stdout",
     "output_type": "stream",
     "text": [
      "Grade:- A\n"
     ]
    }
   ],
   "source": [
    "user_input = int(input(\"enter grade:- \"))\n",
    "if user_input >90:\n",
    "    print(\"Grade:- A\")\n",
    "elif user_input>80 and user_input<=90:\n",
    "    print(\"Grade:- B\")\n",
    "elif user_input>=60 and user_input<=80:\n",
    "    print(\"Grade:- C\")\n",
    "else:\n",
    "    print(\"Grade:- D\")"
   ]
  },
  {
   "cell_type": "markdown",
   "id": "d720747c-360d-4f92-b319-f77f7b8b61ab",
   "metadata": {},
   "source": [
    "2. Write a program to accept the cost price of a bike and display the road tax to be paid according to the \n",
    "following criteria: "
   ]
  },
  {
   "cell_type": "code",
   "execution_count": 7,
   "id": "2f1bb137-e089-44d0-971e-4d481e6217d0",
   "metadata": {},
   "outputs": [
    {
     "name": "stdin",
     "output_type": "stream",
     "text": [
      "Enter cost price:-  50000\n"
     ]
    },
    {
     "name": "stdout",
     "output_type": "stream",
     "text": [
      "Road Tax :- 5%\n"
     ]
    }
   ],
   "source": [
    "cost_price = int(input(\"Enter cost price:- \"))\n",
    "if cost_price >100000:\n",
    "    print(\"Road Tax :- 15%\")\n",
    "elif cost_price<=100000 and cost_price>500000:\n",
    "    print(\"Road Tax :- 10%\")\n",
    "else:\n",
    "    print(\"Road Tax :- 5%\")"
   ]
  },
  {
   "cell_type": "markdown",
   "id": "98bdb23d-1d43-40d0-b326-7a3c6855eac5",
   "metadata": {},
   "source": [
    "3. Accept any city from the user and display monuments of that city. \n"
   ]
  },
  {
   "cell_type": "code",
   "execution_count": 15,
   "id": "bafacd50-efe1-459d-bef1-6de39973dfa2",
   "metadata": {},
   "outputs": [
    {
     "name": "stdin",
     "output_type": "stream",
     "text": [
      "City name:-  Jaipur\n"
     ]
    },
    {
     "name": "stdout",
     "output_type": "stream",
     "text": [
      "Jai Mahal\n"
     ]
    }
   ],
   "source": [
    "user_city = input(\"City name:- \")\n",
    "city_name = \"Delhi\",\"Agra\",\"Jaipur\"\n",
    "if user_city in city_name:\n",
    "    if user_city == \"Delhi\":\n",
    "        print(\"Red Fort\")\n",
    "    elif user_city == \"Agra\":\n",
    "        print(\"Taj Mahal\")\n",
    "    else:\n",
    "        print(\"Jai Mahal\")\n",
    "else:\n",
    "    print(\"Please enter correct city name.\")"
   ]
  },
  {
   "cell_type": "markdown",
   "id": "706955c1-5f71-4cba-90b0-cdb85a296f82",
   "metadata": {},
   "source": [
    "4. Check how many times a given number can be divided by 3 before it is less than or equal to 10. \n"
   ]
  },
  {
   "cell_type": "code",
   "execution_count": 2,
   "id": "f14fc4c2-293e-437f-93f1-a5118127cfb0",
   "metadata": {},
   "outputs": [
    {
     "name": "stdin",
     "output_type": "stream",
     "text": [
      "Enter a number:-  100\n"
     ]
    },
    {
     "name": "stdout",
     "output_type": "stream",
     "text": [
      "3\n"
     ]
    }
   ],
   "source": [
    "n = int(input(\"Enter a number:- \"))\n",
    "count = 0\n",
    "while n>10:\n",
    "    n = n//3\n",
    "    count+=1\n",
    "print(count)"
   ]
  },
  {
   "cell_type": "markdown",
   "id": "484b29fd-4a3c-49d2-b6e1-7c09cfded59e",
   "metadata": {},
   "source": [
    "5. Why and When to Use while Loop in Python give a detailed description with example.\n",
    "--> when we don't know how many steps we have to go for the final result then we have to use while loop.\n",
    "    ex."
   ]
  },
  {
   "cell_type": "code",
   "execution_count": 16,
   "id": "88cb363c-c204-444b-905b-4f05ce162e10",
   "metadata": {},
   "outputs": [
    {
     "name": "stdout",
     "output_type": "stream",
     "text": [
      "function of while loop.\n",
      "function of while loop.\n",
      "function of while loop.\n"
     ]
    }
   ],
   "source": [
    "n=3\n",
    "while n>0:\n",
    "    print(\"function of while loop.\")\n",
    "    n -= 1"
   ]
  },
  {
   "cell_type": "markdown",
   "id": "c1b032c8-eb53-4b07-9062-ed2be84559d2",
   "metadata": {},
   "source": [
    "6. Use nested while loop to print 3 different pattern. "
   ]
  },
  {
   "cell_type": "code",
   "execution_count": 3,
   "id": "6c773a1f-1142-4457-b168-dd347f262d18",
   "metadata": {},
   "outputs": [
    {
     "name": "stdout",
     "output_type": "stream",
     "text": [
      "0 1 2 3 \n",
      "0 2 4 6 \n",
      "0 3 6 9 \n",
      "0 4 8 12 \n"
     ]
    }
   ],
   "source": [
    "#example 1\n",
    "i = 1\n",
    "while i <= 4 :\n",
    "    j = 0\n",
    "    while  j <= 3 :\n",
    "        print(i*j, end=\" \")\n",
    "        j += 1\n",
    "    print()\n",
    "    i += 1"
   ]
  },
  {
   "cell_type": "code",
   "execution_count": 2,
   "id": "170e4bd1-5fe7-4f87-82ff-ef52fc2ae139",
   "metadata": {},
   "outputs": [
    {
     "name": "stdout",
     "output_type": "stream",
     "text": [
      "$$$ * * * * \n",
      "$$$ * * * \n",
      "$$$ * * \n",
      "$$$ * \n"
     ]
    }
   ],
   "source": [
    "#example 2\n",
    "n = 3\n",
    "p = 4\n",
    "while n>0:\n",
    "    while p>0:\n",
    "        print(\"$\"*n ,'* '*p)\n",
    "        p -= 1\n",
    "    n -= 1"
   ]
  },
  {
   "cell_type": "code",
   "execution_count": 7,
   "id": "0dceb17f-621e-4788-a14b-2efeda9e1af6",
   "metadata": {},
   "outputs": [
    {
     "name": "stdout",
     "output_type": "stream",
     "text": [
      "** ^^^ $$$$\n",
      "** ^^^ $$$\n",
      "** ^^^ $$\n",
      "** ^^^ $\n"
     ]
    }
   ],
   "source": [
    "#example 3\n",
    "n = 2\n",
    "p = 3\n",
    "q = 4\n",
    "while n>0:\n",
    "    while p>0:\n",
    "        while q>0:\n",
    "            print(\"*\"*n,\"^\"*p,\"$\"*q)\n",
    "            q -= 1\n",
    "        p -= 1\n",
    "    n -= 1"
   ]
  },
  {
   "cell_type": "markdown",
   "id": "e3165415-a471-445e-a87a-fd3309a0c41a",
   "metadata": {},
   "source": [
    "7. Reverse a while loop to display numbers from 10 to 1."
   ]
  },
  {
   "cell_type": "code",
   "execution_count": 3,
   "id": "3fe34a50-16ca-409c-8da9-2a5af90277a5",
   "metadata": {},
   "outputs": [
    {
     "name": "stdout",
     "output_type": "stream",
     "text": [
      "10\n",
      "9\n",
      "8\n",
      "7\n",
      "6\n",
      "5\n",
      "4\n",
      "3\n",
      "2\n",
      "1\n"
     ]
    }
   ],
   "source": [
    "n = 10\n",
    "while n>0:\n",
    "    print(n)\n",
    "    n -= 1"
   ]
  },
  {
   "cell_type": "code",
   "execution_count": null,
   "id": "60022e79-6220-4f87-9b78-dc7cc310bc4a",
   "metadata": {},
   "outputs": [],
   "source": []
  }
 ],
 "metadata": {
  "kernelspec": {
   "display_name": "Python 3 (ipykernel)",
   "language": "python",
   "name": "python3"
  },
  "language_info": {
   "codemirror_mode": {
    "name": "ipython",
    "version": 3
   },
   "file_extension": ".py",
   "mimetype": "text/x-python",
   "name": "python",
   "nbconvert_exporter": "python",
   "pygments_lexer": "ipython3",
   "version": "3.10.8"
  }
 },
 "nbformat": 4,
 "nbformat_minor": 5
}
