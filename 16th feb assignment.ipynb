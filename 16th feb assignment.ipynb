{
 "cells": [
  {
   "cell_type": "markdown",
   "id": "d28d6e46-6868-4666-ba10-1947986a380b",
   "metadata": {},
   "source": [
    "Q1. What is a database? Differentiate between SQL and NoSQL databases.\n",
    "\n",
    "--> A database is a structured collection of data that is stored and organized in a way that enables efficient retrieval, manipulation, and management of information.\n",
    "\n",
    "*  Differentiate between SQL and NoSQL databases\n",
    "\n",
    "    - SQL (Structured Query Language) databases are relational databases that use tables to store and organize data. They have a well-defined schema, which defines the structure of the data, the relationships between tables, and the constraints that ensure data integrity. SQL databases are based on a set of standardized SQL commands, which are used to insert, update, and query data.\n",
    "    \n",
    "    - NoSQL (Not Only SQL) databases are non-relational databases that do not use tables to store data. Instead, they use a variety of data models, such as key-value, document-oriented, graph, or column-family. NoSQL databases are designed to be highly scalable and flexible, and they can handle large amounts of unstructured or semi-structured data."
   ]
  },
  {
   "cell_type": "markdown",
   "id": "93f25e6f-7236-41c3-a2b9-72927456325c",
   "metadata": {},
   "source": [
    "Q2. What is DDL? Explain why CREATE, DROP, ALTER, and TRUNCATE are used with an example.\n",
    "\n",
    "--> DDL stands for Data Definition Language, which is a set of SQL commands used to define, modify, and manage the structure of a database. DDL commands are used to create, alter, and drop tables, indexes, and other database objects, as well as to define constraints and specify access controls.\n",
    "\n",
    "* CREATE :- is used to create a new table or database.\n",
    "  \n",
    "           ex:- CREATE database shiva;\n",
    "* DROP :- is used to drop(or delete the table) table\n",
    "\n",
    "            ex:- DROP table aman;\n",
    "* ALTER :- is used to modify the structure of an existing database object, such as a table or column. \n",
    "\n",
    "            ex:- ALTER TABLE Customers\n",
    "                ADD Email VARCHAR(255);\n",
    "* TRUNCATE :- is used to remove all data from a table while keeping its structure intact. \n",
    "\n",
    "            ex:- TRUNCATE TABLE Customers;"
   ]
  },
  {
   "cell_type": "markdown",
   "id": "35fd7fa6-fcbb-462d-9466-84e51d275e49",
   "metadata": {},
   "source": [
    "Q3. What is DML? Explain INSERT, UPDATE, and DELETE with an example.\n",
    "\n",
    "--> DML stands for Data Manipulation Language, which is a set of SQL commands used to manage data within a database. DML commands are used to insert, update, and delete data in a database, as well as to retrieve data from a database.\n",
    "\n",
    "* INSERT: used to insert new data into a table.\n",
    "\n",
    "        ex:- INSERT INTO Customers (Name, Email)\n",
    "            VALUES ('shiva saurabh', 'shiva.saurabh@gmail.com');\n",
    "* UPDATE: used to modify existing data in a table.\n",
    "\n",
    "        ex:- UPDATE Customers\n",
    "            SET Email = 'shiva.saurabh@newemail.com'\n",
    "            WHERE Name = 'John Smith';\n",
    "* DELETE: used to remove data from a table.\n",
    "\n",
    "        ex:- DELETE FROM Customers\n",
    "            WHERE Name = 'shiva saurabh';"
   ]
  },
  {
   "cell_type": "markdown",
   "id": "67f2660f-d94c-473b-a7bf-335fc0bf3847",
   "metadata": {},
   "source": [
    "Q4. What is DQL? Explain SELECT with an example.\n",
    "\n",
    "--> DDL stands for Data Definition Language, which is a set of SQL commands used to define, modify, and manage the structure of a database. DDL commands are used to create, alter, and delete database objects such as tables, indexes, views, and constraints.\n",
    "\n",
    "--> SELECT is a SQL command used to retrieve data from one or more tables in a database. It is the most commonly used SQL command and is often used in combination with other SQL commands to retrieve, filter, and sort data based on specific criteria.\n",
    "\n",
    "        ex:- SELECT Name, Email FROM Customers;"
   ]
  },
  {
   "cell_type": "markdown",
   "id": "91b0c86b-e49e-41aa-af6e-093093417765",
   "metadata": {},
   "source": [
    "Q5. Explain Primary Key and Foreign Key.\n",
    "\n",
    "--> A primary key is a column or set of columns in a table that uniquely identifies each row in that table. Primary keys are used to enforce data integrity and ensure that each row in a table is unique.\n",
    "\n",
    "        ex:- consider a table called \"Customers\" with columns for \"CustomerID\", \"Name\", \"Email\", and \"City\". We can make \"CustomerID\" the primary key for the \"Customers\" table, which means that each value in the \"CustomerID\" column must be unique and cannot be null. This ensures that we can easily and efficiently retrieve data for a specific customer by their unique identifier.\n",
    "\n",
    "\n",
    "--> A foreign key is a column or set of columns in one table that refers to the primary key of another table. Foreign keys are used to establish relationships between tables and ensure that data in related tables is consistent.\n",
    "\n",
    "        ex:- consider a table called \"Orders\" with columns for \"OrderID\", \"CustomerID\", \"OrderDate\", and \"TotalAmount\". We can make \"CustomerID\" a foreign key that refers to the \"CustomerID\" column in the \"Customers\" table. This ensures that each order is associated with a valid customer, and we can easily retrieve customer information when querying the \"Orders\" table."
   ]
  },
  {
   "cell_type": "markdown",
   "id": "132e52cd-5e46-405f-bf87-f153f62d2528",
   "metadata": {},
   "source": [
    "Q6. Write a python code to connect MySQL to python. Explain the cursor() and execute() method."
   ]
  },
  {
   "cell_type": "code",
   "execution_count": null,
   "id": "2f512c9d-39fc-42c7-a116-c3e18211a1c1",
   "metadata": {},
   "outputs": [],
   "source": [
    "import mysql.connector\n",
    "\n",
    "myDB = mysql.connector.connect(\n",
    "    host = 'localhost',\n",
    "    user = 'abc',\n",
    "    password = 'password'\n",
    ")\n",
    "\n",
    "myCoursor = myDB.cursor()\n",
    "myCoursor.execute(\"CREATE database shiva\")\n",
    "myDB.close()"
   ]
  },
  {
   "cell_type": "markdown",
   "id": "dffd93b5-afca-404e-89b9-97432f3ea0c6",
   "metadata": {},
   "source": [
    "* cursor() :- method is used to create a cursor object, which is used to execute SQL statements and retrieve data from the database. The cursor object is used to traverse the records of a result set and perform database operations like inserting, updating, and deleting records.\n",
    "\n",
    "* execute() :- method is used to execute a SQL statement on a cursor object. The SQL statement can be a parameterized query, which allows you to pass values into the query at runtime. The execute() method returns a cursor object that can be used to fetch the results of the query."
   ]
  },
  {
   "cell_type": "markdown",
   "id": "fe6ec950-3b60-4b2d-8ab0-08d3f4b3614f",
   "metadata": {},
   "source": [
    "Q7. Give the order of execution of SQL clauses in an SQL query.\n",
    "\n",
    "--> In an SQL query, the order of execution of SQL clauses is as follows:\n",
    "* FROM\n",
    "* WHERE\n",
    "* GROUP BY\n",
    "* HAVING\n",
    "* SELECT\n",
    "* DISTINCT\n",
    "* ORDER BY\n",
    "* LIMIT\n"
   ]
  },
  {
   "cell_type": "code",
   "execution_count": null,
   "id": "43d38398-2fa0-42c8-ae1d-4401259434b3",
   "metadata": {},
   "outputs": [],
   "source": []
  }
 ],
 "metadata": {
  "kernelspec": {
   "display_name": "Python 3 (ipykernel)",
   "language": "python",
   "name": "python3"
  },
  "language_info": {
   "codemirror_mode": {
    "name": "ipython",
    "version": 3
   },
   "file_extension": ".py",
   "mimetype": "text/x-python",
   "name": "python",
   "nbconvert_exporter": "python",
   "pygments_lexer": "ipython3",
   "version": "3.10.8"
  }
 },
 "nbformat": 4,
 "nbformat_minor": 5
}
