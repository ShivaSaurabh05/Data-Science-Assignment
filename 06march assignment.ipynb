{
 "cells": [
  {
   "cell_type": "markdown",
   "id": "af516b7b-177f-4fd0-949b-c584c6b38384",
   "metadata": {},
   "source": [
    "Q1. What is Statistics?"
   ]
  },
  {
   "cell_type": "markdown",
   "id": "6a3a3e7b-3735-439f-871b-de7637974dc6",
   "metadata": {},
   "source": [
    "* Statistics is a branch of mathematics that deals with the collection, analysis, interpretation, presentation, and organization of data. It involves the use of quantitative methods to gather, summarize, and analyze data, and then draw conclusions or make predictions based on the results."
   ]
  },
  {
   "cell_type": "markdown",
   "id": "3e8e3103-44b4-49fd-a197-7ad5cd877ef9",
   "metadata": {},
   "source": []
  },
  {
   "cell_type": "markdown",
   "id": "23d9d390-919b-4a98-8c2d-b0aef2dd56bb",
   "metadata": {},
   "source": [
    "Q2. Define the different types of statistics and give an example of when each type might be used."
   ]
  },
  {
   "cell_type": "markdown",
   "id": "fb7cbe08-003c-4f41-9114-36a3a016db78",
   "metadata": {},
   "source": [
    "* Descriptive Statistics: Descriptive statistics are used to summarize and describe the main features of a dataset. It includes measures of central tendency, such as mean, median, and mode, as well as measures of variability, such as range, variance, and standard deviation. Descriptive statistics can be used to describe the characteristics of a population, such as the age distribution, income level, or education level.\n",
    "\n",
    "            Ex:-Suppose the marks of students belonging to class A are {70, 85, 90, 65) and class B are {60, 40, 89, 96}. Then the average marks of each class can be given by the mean as 77.5 and 71.25. This denotes that the average of class A is more than class B.\n",
    "\n",
    "* Inferential Statistics: Inferential statistics are used to draw conclusions or make predictions about a population based on a sample of data. It involves using probability theory to make inferences about the population based on the sample data. Inferential statistics can be used to test hypotheses, make predictions, or estimate parameters of a population.\n",
    "\n",
    "            Ex:-Suppose we want to know whether the average age of students in a classroom is representative of the average age of all students in the school. We can take a sample of students from different classes in the school and calculate the mean age of this sample. Then, we can use inferential statistics to estimate the average age of all students in the school with a certain level of confidence. This can help us determine whether the sample accurately represents the population."
   ]
  },
  {
   "cell_type": "markdown",
   "id": "26d0e6f8-06f3-4674-951d-d1052f60a63c",
   "metadata": {},
   "source": []
  },
  {
   "cell_type": "markdown",
   "id": "ff1f4b47-77d9-40bd-bcff-72cfaca546bc",
   "metadata": {},
   "source": [
    "Q3. What are the different types of data and how do they differ from each other? Provide an example of\n",
    "each type of data."
   ]
  },
  {
   "cell_type": "markdown",
   "id": "5b558042-894e-4042-ab1d-1854a26260e3",
   "metadata": {},
   "source": [
    "* Quantitative ----- (Discrete and Continous) and Qualitative ----- (Nominal and ordinal)\n",
    "\n",
    "* Qualitative data, also known as the categorical data, describes the data that fits into the categories. Qualitative data are not numerical. The categorical information involves categorical variables that describe the features such as a person’s gender, home town etc. Categorical measures are defined in terms of natural language specifications, but not in terms of numbers.\n",
    "\n",
    "            Ex:- Diary accounts,Case studies\n",
    "\n",
    "* Quantitative data is also known as numerical data which represents the numerical value (i.e., how much, how often, how many). Numerical data gives information about the quantities of a specific thing. Some examples of numerical data are height, length, size, weight, and so on. The quantitative data can be classified into two different types based on the data sets. The two different classifications of numerical data are discrete data and continuous data.\n",
    "\n",
    "            Ex:- Weight in kilograms, Age in months or years,Length in centimeters"
   ]
  },
  {
   "cell_type": "markdown",
   "id": "5bc52bb6-d91a-4c08-b80c-2623379e97fd",
   "metadata": {},
   "source": []
  },
  {
   "cell_type": "markdown",
   "id": "b87166db-e0af-457d-a32b-896ea2f61360",
   "metadata": {},
   "source": [
    "Q4. Categorise the following datasets with respect to quantitative and qualitative data types:\n",
    "\n",
    "(i) Grading in exam: A+, A, B+, B, C+, C, D, E\n",
    "\n",
    "(ii) Colour of mangoes: yellow, green, orange, red\n",
    "\n",
    "(iii) Height data of a class: [178.9, 179, 179.5, 176, 177.2, 178.3, 175.8,...]\n",
    "\n",
    "(iv) Number of mangoes exported by a farm: [500, 600, 478, 672, ...]"
   ]
  },
  {
   "cell_type": "markdown",
   "id": "b939dd22-eaf2-48cd-a379-368f46530e0c",
   "metadata": {},
   "source": [
    "* (i) qualitative\n",
    "* (ii) qualitative\n",
    "* (iii) quantitative\n",
    "* (iv) quantitative"
   ]
  },
  {
   "cell_type": "markdown",
   "id": "ed193dc9-553b-4668-afa2-57aa41a08e5b",
   "metadata": {},
   "source": []
  },
  {
   "cell_type": "markdown",
   "id": "6b82f507-9dd1-4b78-873e-5e88735d609a",
   "metadata": {},
   "source": [
    "Q5. Explain the concept of levels of measurement and give an example of a variable for each level."
   ]
  },
  {
   "cell_type": "markdown",
   "id": "4d3ad15f-b923-4e82-a1e0-4a9403312e43",
   "metadata": {},
   "source": [
    "* In statistics, level of measurement is a classification that relates the values that are assigned to variables with each other. In other words, level of measurement is used to describe information within the values. Psychologist Stanley Smith is known for developing four levels of measurement: nominal, ordinal, interval, and ratio.\n",
    "\n",
    "* Nominal level of measurement: Ex:- Favorite food based on gender\n",
    "* Ordinal level of measurement:  Ex:- rating how much pain you're in on a scale of 1-5\n",
    "* Interval level of measurement: Ex:- Temperature in Fahrenheit or Celsius, pH measure, IQ scores\n",
    "* Ratio level of measurement: Ex:- Length, area, and population"
   ]
  },
  {
   "cell_type": "markdown",
   "id": "cae74f40-9cb6-4b58-ab12-e3accf8caf5d",
   "metadata": {},
   "source": []
  },
  {
   "cell_type": "markdown",
   "id": "922f8d86-6ad0-41ef-9fdf-51c219c3e779",
   "metadata": {},
   "source": [
    "Q6. Why is it important to understand the level of measurement when analyzing data? Provide an\n",
    "example to illustrate your answer."
   ]
  },
  {
   "cell_type": "markdown",
   "id": "48705ecc-225f-4b8f-98a0-c17cb463378c",
   "metadata": {},
   "source": [
    "* Understanding the level of measurement is important when analyzing data because it determines the types of statistical analyses and tests that can be used. Different statistical methods are appropriate for different levels of measurement, and using the wrong method can lead to incorrect or misleading results.\n",
    "\n",
    "* For example, nominal data cannot be used in calculations that require numbers, such as computing means or medians. Similarly, ratio data requires different statistical tests than ordinal data, and using the wrong test can lead to incorrect conclusions. By understanding the level of measurement, researchers can select the appropriate statistical methods and accurately interpret their data."
   ]
  },
  {
   "cell_type": "markdown",
   "id": "6130b6cb-3fb8-43b6-b8af-5dc848127ee2",
   "metadata": {},
   "source": []
  },
  {
   "cell_type": "markdown",
   "id": "ad0b5e5f-1c4f-4a65-94b0-a818e74c3ea2",
   "metadata": {},
   "source": [
    "Q7. How nominal data type is different from ordinal data type."
   ]
  },
  {
   "cell_type": "markdown",
   "id": "72a21c21-f0fa-4d4f-b3c7-8cf94b95b685",
   "metadata": {},
   "source": [
    "* the key difference between nominal and ordinal data is the presence or absence of an inherent order or ranking in the categories. Nominal data has no inherent order or ranking, while ordinal data has an inherent order or ranking."
   ]
  },
  {
   "cell_type": "markdown",
   "id": "9ab8c5a0-cd25-4717-9b89-8858f5b96fd9",
   "metadata": {},
   "source": []
  },
  {
   "cell_type": "markdown",
   "id": "26b9b6dc-a6ce-4da6-a2bd-7e6c3b193b20",
   "metadata": {},
   "source": [
    "Q8. Which type of plot can be used to display data in terms of range?"
   ]
  },
  {
   "cell_type": "markdown",
   "id": "9b4f67c0-fd13-4ace-8e94-f259090a8724",
   "metadata": {},
   "source": [
    "* A box plot, also known as a box-and-whisker plot, is a type of plot that can be used to display data in terms of range. A box plot displays the distribution of data by showing the median, quartiles, and the range of the data. The box represents the interquartile range (IQR), which is the range between the first and third quartiles. The median is represented by a line within the box. The whiskers extend from the box to the minimum and maximum values, excluding outliers."
   ]
  },
  {
   "cell_type": "markdown",
   "id": "2ee44dc8-8a0f-48d8-9ff5-eae8a4929056",
   "metadata": {},
   "source": []
  },
  {
   "cell_type": "markdown",
   "id": "ab201e1c-b6f7-42a8-b9af-ff7222a3a6c1",
   "metadata": {},
   "source": [
    "Q9. Describe the difference between descriptive and inferential statistics. Give an example of each\n",
    "type of statistics and explain how they are used."
   ]
  },
  {
   "cell_type": "markdown",
   "id": "c25ab252-abb9-4eac-9c09-4bade842f3bc",
   "metadata": {},
   "source": [
    "* Descriptive Statistics: Descriptive statistics are used to summarize and describe the main features of a dataset. It includes measures of central tendency, such as mean, median, and mode, as well as measures of variability, such as range, variance, and standard deviation. Descriptive statistics can be used to describe the characteristics of a population, such as the age distribution, income level, or education level.\n",
    "\n",
    "            Ex:-Suppose the marks of students belonging to class A are {70, 85, 90, 65) and class B are {60, 40, 89, 96}. Then the average marks of each class can be given by the mean as 77.5 and 71.25. This denotes that the average of class A is more than class B.\n",
    "\n",
    "* Inferential Statistics: Inferential statistics are used to draw conclusions or make predictions about a population based on a sample of data. It involves using probability theory to make inferences about the population based on the sample data. Inferential statistics can be used to test hypotheses, make predictions, or estimate parameters of a population.\n",
    "\n",
    "            Ex:-Suppose we want to know whether the average age of students in a classroom is representative of the average age of all students in the school. We can take a sample of students from different classes in the school and calculate the mean age of this sample. Then, we can use inferential statistics to estimate the average age of all students in the school with a certain level of confidence. This can help us determine whether the sample accurately represents the population."
   ]
  },
  {
   "cell_type": "markdown",
   "id": "0668b8f4-f828-4c28-84bb-287f01ba39cd",
   "metadata": {},
   "source": []
  },
  {
   "cell_type": "markdown",
   "id": "cc38568e-2f9a-4d92-9faf-d47f3ec3aedd",
   "metadata": {},
   "source": [
    "Q10. What are some common measures of central tendency and variability used in statistics? Explain\n",
    "how each measure can be used to describe a dataset."
   ]
  },
  {
   "cell_type": "markdown",
   "id": "14f7b853-e59b-40c2-a912-2148feeae028",
   "metadata": {},
   "source": [
    "* Measures of central tendency and variability are important tools used in statistics to describe the characteristics of a dataset. Some common measures of central tendency and variability include:\n",
    "\n",
    "        1. Mean: The mean is the sum of all values in a dataset divided by the number of values.It is a common measure of  central tendency that describes the average value of a dataset\n",
    "        \n",
    "        2. Median: The median is the value in the middle of a dataset when the data is arranged in order. It is a measure of central tendency that describes the middle value of a dataset. The median is useful when there are extreme outliers that would skew the mean, or when the data is not normally distributed.\n",
    "        \n",
    "        3. Mode: The mode is the most common value in a dataset. It is a measure of central tendency that describes the most frequently occurring value in a dataset. The mode is useful when there are many repeated values in a dataset.\n",
    "        \n",
    "        4. Range: The range is the difference between the maximum and minimum values in a dataset. It is a measure of variability that describes the spread of the dataset. The range is useful for quickly describing the overall spread of the data.\n",
    "        \n",
    "        5. Standard deviation: The standard deviation is a measure of variability that describes how much the data deviates from the mean. It is useful for describing the spread of the dataset and for making inferences about the population from which the sample was taken."
   ]
  },
  {
   "cell_type": "markdown",
   "id": "699b36e5-b824-4fbb-af9e-89ae346cd21e",
   "metadata": {},
   "source": []
  }
 ],
 "metadata": {
  "kernelspec": {
   "display_name": "Python 3 (ipykernel)",
   "language": "python",
   "name": "python3"
  },
  "language_info": {
   "codemirror_mode": {
    "name": "ipython",
    "version": 3
   },
   "file_extension": ".py",
   "mimetype": "text/x-python",
   "name": "python",
   "nbconvert_exporter": "python",
   "pygments_lexer": "ipython3",
   "version": "3.10.8"
  }
 },
 "nbformat": 4,
 "nbformat_minor": 5
}
