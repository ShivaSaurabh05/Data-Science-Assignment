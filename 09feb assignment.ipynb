{
 "cells": [
  {
   "cell_type": "markdown",
   "id": "647e4869-5157-47f3-aa39-88b2159e57cc",
   "metadata": {},
   "source": [
    "Q1, Create a vehicle class with an init method having instance variables as name_of_vehicle, max_speed\n",
    "and average_of_vehicle."
   ]
  },
  {
   "cell_type": "code",
   "execution_count": 7,
   "id": "a14b92ae-3d75-4640-b859-e42eb9584475",
   "metadata": {},
   "outputs": [],
   "source": [
    "class vehicle:\n",
    "    def __init__(self,name_of_vehicle,max_speed,average_of_vehicle):\n",
    "        self.name_of_vehicle = name_of_vehicle\n",
    "        self.max_speed = max_speed\n",
    "        self.average_of_vehicle = average_of_vehicle\n",
    "    def details(self):\n",
    "        print(f\"\"\"{self.name_of_vehicle}\\n{self.max_speed}\\n{self.average_of_vehicle}\"\"\")"
   ]
  },
  {
   "cell_type": "code",
   "execution_count": 8,
   "id": "57c893aa-5e3c-413f-940e-1a706962a06c",
   "metadata": {},
   "outputs": [],
   "source": [
    "car = vehicle('tiago',150,19)"
   ]
  },
  {
   "cell_type": "code",
   "execution_count": 9,
   "id": "778a9eeb-57a6-4186-9e73-cf62dbd92d62",
   "metadata": {},
   "outputs": [
    {
     "name": "stdout",
     "output_type": "stream",
     "text": [
      "tiago\n",
      "150\n",
      "19\n"
     ]
    }
   ],
   "source": [
    "car.details()"
   ]
  },
  {
   "cell_type": "markdown",
   "id": "64657545-68ac-4192-9a3a-5191bf129c2d",
   "metadata": {},
   "source": [
    "Q2. Create a child class car from the vehicle class created in Que 1, which will inherit the vehicle class.\n",
    "Create a method named seating_capacity which takes capacity as an argument and returns the name of\n",
    "the vehicle and its seating capacity."
   ]
  },
  {
   "cell_type": "code",
   "execution_count": 19,
   "id": "68c74bce-7b87-4a56-a8ee-9c90a2fa20be",
   "metadata": {},
   "outputs": [],
   "source": [
    "class child_class_car(vehicle):\n",
    "    def seating_capacity(self,capacity):\n",
    "        self.capacity = capacity\n",
    "        return f\"{self.name_of_vehicle}  {self.capacity}\""
   ]
  },
  {
   "cell_type": "code",
   "execution_count": 20,
   "id": "409dbe75-1443-4c63-bb63-a3c0a1bd7009",
   "metadata": {},
   "outputs": [],
   "source": [
    "child_car = child_class_car('tiago',150,19)"
   ]
  },
  {
   "cell_type": "code",
   "execution_count": 21,
   "id": "d5d4e26b-4b30-46c8-8d33-45e9ea3eee67",
   "metadata": {},
   "outputs": [
    {
     "data": {
      "text/plain": [
       "'tiago  5'"
      ]
     },
     "execution_count": 21,
     "metadata": {},
     "output_type": "execute_result"
    }
   ],
   "source": [
    "child_car.seating_capacity(5)"
   ]
  },
  {
   "cell_type": "markdown",
   "id": "30f9730f-5e7c-4a8f-983f-37de5a308cd7",
   "metadata": {},
   "source": [
    "Q3. What is multiple inheritance? Write a python code to demonstrate multiple inheritance.\n",
    "\n",
    "--> Multiple inheritance means inheriting multiple properties at a time or say multiple class at a time."
   ]
  },
  {
   "cell_type": "code",
   "execution_count": 39,
   "id": "b803079c-6218-4100-a161-86fb30fb62b4",
   "metadata": {},
   "outputs": [],
   "source": [
    "# Example code\n",
    "\n",
    "class class1:\n",
    "    def test1(self):\n",
    "        return (\"class1\")\n",
    "\n",
    "class class2:\n",
    "    def test2(self):\n",
    "        return (\"class2\")\n",
    "\n",
    "class class3(class1, class2):\n",
    "    def test3(self):\n",
    "        return (\"class3\")\n",
    "\n",
    "# here class3 is inheriting multiple classes(class1 and class2) at a time.\n",
    "# we can call methods of both class1 and class2 from class3 object."
   ]
  },
  {
   "cell_type": "code",
   "execution_count": 40,
   "id": "7c8cfbad-fca6-4a8f-895c-fac19e9ef662",
   "metadata": {},
   "outputs": [],
   "source": [
    "c3 = class3()"
   ]
  },
  {
   "cell_type": "code",
   "execution_count": 41,
   "id": "03256a4a-b5dc-4e1e-bb87-46723509ecf6",
   "metadata": {},
   "outputs": [
    {
     "name": "stdout",
     "output_type": "stream",
     "text": [
      "class1\n",
      "class2\n",
      "class3\n"
     ]
    }
   ],
   "source": [
    "print(c3.test1())\n",
    "print(c3.test2())\n",
    "print(c3.test3())"
   ]
  },
  {
   "cell_type": "markdown",
   "id": "03b5c522-e47f-4def-a0e2-117aeba68115",
   "metadata": {},
   "source": [
    "Q4. What are getter and setter in python? Create a class and create a getter and a setter method in this\n",
    "class.\n",
    "\n",
    "--> Getters: These are the methods used in Object-Oriented Programming (OOPS) which helps to access the private attributes from a class.\n",
    "\n",
    "--> Setters: These are the methods used in OOPS feature which helps to set the value to private attributes in a class."
   ]
  },
  {
   "cell_type": "code",
   "execution_count": 8,
   "id": "ab4028bc-6412-401c-85c9-128815aaa31f",
   "metadata": {},
   "outputs": [],
   "source": [
    "class account:\n",
    "    \n",
    "    def __init__(self,pin):\n",
    "        self.__pin = pin\n",
    "        \n",
    "    def get_pin(self):\n",
    "        return self.__pin\n",
    "    \n",
    "    def set_pin(self,new_pin):\n",
    "        if new_pin != self.__pin and type(new_pin) == int:\n",
    "            self.__pin = new_pin\n",
    "        else:\n",
    "            print(\"try again\")"
   ]
  },
  {
   "cell_type": "code",
   "execution_count": 9,
   "id": "3fd373cb-2558-4bd4-8f35-327dc5138828",
   "metadata": {},
   "outputs": [],
   "source": [
    "user = account(123)"
   ]
  },
  {
   "cell_type": "code",
   "execution_count": 10,
   "id": "6a2974a8-c8bd-4302-8992-b9c3a83d5768",
   "metadata": {},
   "outputs": [
    {
     "data": {
      "text/plain": [
       "123"
      ]
     },
     "execution_count": 10,
     "metadata": {},
     "output_type": "execute_result"
    }
   ],
   "source": [
    "user.get_pin()"
   ]
  },
  {
   "cell_type": "code",
   "execution_count": 14,
   "id": "bf710688-c80b-44d6-ad78-ba744043a46c",
   "metadata": {},
   "outputs": [
    {
     "name": "stdout",
     "output_type": "stream",
     "text": [
      "try again\n"
     ]
    }
   ],
   "source": [
    "user.set_pin(-123)"
   ]
  },
  {
   "cell_type": "code",
   "execution_count": 15,
   "id": "7484b881-b49d-41d9-a7ca-adf0af08742d",
   "metadata": {},
   "outputs": [],
   "source": [
    "user.set_pin(345)"
   ]
  },
  {
   "cell_type": "code",
   "execution_count": 16,
   "id": "1dcf8dd8-a32a-4ca4-8663-fe341482def9",
   "metadata": {},
   "outputs": [
    {
     "data": {
      "text/plain": [
       "345"
      ]
     },
     "execution_count": 16,
     "metadata": {},
     "output_type": "execute_result"
    }
   ],
   "source": [
    "user.get_pin()"
   ]
  },
  {
   "cell_type": "markdown",
   "id": "2628f81c-402d-43ed-bdcc-3d59ef694b9a",
   "metadata": {},
   "source": [
    "Q5.What is method overriding in python? Write a python code to demonstrate method overriding."
   ]
  },
  {
   "cell_type": "markdown",
   "id": "5d93c455-5875-43f8-8a85-f47987536954",
   "metadata": {},
   "source": [
    "--> When a child class method overrides or provides it's own implementation to the parent class method of the same name, parameters and return type, it is known as method overriding.\n",
    "\n",
    "In this case, the child class's method is called the overriding method and the parent class's method is called the overriden method."
   ]
  },
  {
   "cell_type": "code",
   "execution_count": 7,
   "id": "3cf43f49-08b9-4d3d-b6d8-c273b146bab8",
   "metadata": {},
   "outputs": [],
   "source": [
    "# Exmaple of method overriding\n",
    "\n",
    "class parent:\n",
    "    def method1(self):\n",
    "        print(\"this is parent class method\")\n",
    "\n",
    "class child(parent):\n",
    "    def method1(self):\n",
    "        print(\"Parent class method1 is overridden by child class method1.\\nThis is called method overriding\")"
   ]
  },
  {
   "cell_type": "code",
   "execution_count": 8,
   "id": "41d8c37a-b4dd-4083-859d-4786c8a7d6fa",
   "metadata": {},
   "outputs": [],
   "source": [
    "c = child()"
   ]
  },
  {
   "cell_type": "code",
   "execution_count": 9,
   "id": "c52be5f6-7aa8-47a4-bb66-d539924431ed",
   "metadata": {},
   "outputs": [
    {
     "name": "stdout",
     "output_type": "stream",
     "text": [
      "Parent class method1 is overridden by child class method1.\n",
      "This is called method overriding\n"
     ]
    }
   ],
   "source": [
    "c.method1()"
   ]
  },
  {
   "cell_type": "code",
   "execution_count": null,
   "id": "7185d0f3-8b00-46f4-874e-fe52435c0c10",
   "metadata": {},
   "outputs": [],
   "source": []
  }
 ],
 "metadata": {
  "kernelspec": {
   "display_name": "Python 3 (ipykernel)",
   "language": "python",
   "name": "python3"
  },
  "language_info": {
   "codemirror_mode": {
    "name": "ipython",
    "version": 3
   },
   "file_extension": ".py",
   "mimetype": "text/x-python",
   "name": "python",
   "nbconvert_exporter": "python",
   "pygments_lexer": "ipython3",
   "version": "3.10.8"
  }
 },
 "nbformat": 4,
 "nbformat_minor": 5
}
