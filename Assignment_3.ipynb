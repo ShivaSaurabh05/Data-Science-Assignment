{
 "cells": [
  {
   "cell_type": "markdown",
   "id": "49a10762-5ced-463a-9662-a1cdb15948c2",
   "metadata": {},
   "source": [
    "Q1.  Explain with an example each when to use a for loop and a while loop. "
   ]
  },
  {
   "cell_type": "markdown",
   "id": "ab6db1e9-3e77-456b-a86c-554ab9dd20e9",
   "metadata": {},
   "source": [
    "--> We use for loop when we know how many steps we need to reach the expected result."
   ]
  },
  {
   "cell_type": "code",
   "execution_count": 2,
   "id": "5db00cf1-cb84-4123-8c0c-a81505e0c435",
   "metadata": {},
   "outputs": [
    {
     "name": "stdout",
     "output_type": "stream",
     "text": [
      "1 2 3 4 5 6 7 8 9 10 "
     ]
    }
   ],
   "source": [
    "#example:-\n",
    "for i in range(1,11):\n",
    "    print(i,end=\" \")"
   ]
  },
  {
   "cell_type": "markdown",
   "id": "38b5da7d-1aeb-46b9-957a-03bed1cad70e",
   "metadata": {},
   "source": [
    "--> And we use while loop when we just know a condition, so we run the loop till the condition is valid."
   ]
  },
  {
   "cell_type": "code",
   "execution_count": 5,
   "id": "fff177fb-e9bc-4dea-8b6e-42522c1ee977",
   "metadata": {},
   "outputs": [
    {
     "name": "stdout",
     "output_type": "stream",
     "text": [
      "10 9 8 7 6 5 4 3 2 1 "
     ]
    }
   ],
   "source": [
    "#example\n",
    "n=10\n",
    "while n>0:\n",
    "    print(n,end=\" \")\n",
    "    n -= 1"
   ]
  },
  {
   "cell_type": "markdown",
   "id": "d3425689-4247-4fb4-9a3e-fe6ab8bdd9a2",
   "metadata": {},
   "source": [
    "Q2.  Write a python program to print the sum and product of the first 10 natural numbers using for  and while loop. \n"
   ]
  },
  {
   "cell_type": "code",
   "execution_count": 11,
   "id": "df73a737-936d-4379-815d-f28dcded3bc5",
   "metadata": {},
   "outputs": [
    {
     "name": "stdout",
     "output_type": "stream",
     "text": [
      "sum = 55\n",
      "multiply = 3628800\n"
     ]
    }
   ],
   "source": [
    "#using for loop\n",
    "summation=0\n",
    "multiply=1\n",
    "for i in range(1,11):\n",
    "    summation += i\n",
    "    multiply *= i\n",
    "print(\"sum =\",summation)\n",
    "print(\"multiply =\",multiply)"
   ]
  },
  {
   "cell_type": "code",
   "execution_count": 12,
   "id": "3ca80c12-2beb-4005-b8b7-05e7da6c0b20",
   "metadata": {},
   "outputs": [
    {
     "name": "stdout",
     "output_type": "stream",
     "text": [
      "sum = 55\n",
      "multiply = 3628800\n"
     ]
    }
   ],
   "source": [
    "#using while loop\n",
    "summation = 0\n",
    "multiply = 1\n",
    "n=10\n",
    "while n>0:\n",
    "    summation += n\n",
    "    multiply *= n\n",
    "    n -= 1\n",
    "print(\"sum =\",summation)\n",
    "print(\"multiply =\",multiply)"
   ]
  },
  {
   "cell_type": "markdown",
   "id": "e4e24846-547c-42df-a097-c12fe5f59dd0",
   "metadata": {},
   "source": [
    "Q3. Create a python program to compute the electricity bill for a household. \n",
    "The per-unit charges in rupees are as follows: For the first 100 units, the user will be charged Rs. 4.5 per  unit, for the next 100 units, the user will be charged Rs. 6 per unit, and for the next 100 units, the user will  be charged Rs. 10 per unit, After 300 units and above the user will be charged Rs. 20 per unit. \n",
    "You are required to take the units of electricity consumed in a month from the user as input. \n",
    "Your program must pass this test case: when the unit of electricity consumed by the user in a month is  310, the total electricity bill should be 2250. \n"
   ]
  },
  {
   "cell_type": "code",
   "execution_count": 13,
   "id": "5597cf4b-3091-45f2-b0c5-cabf05a5d0b2",
   "metadata": {},
   "outputs": [
    {
     "name": "stdin",
     "output_type": "stream",
     "text": [
      "enter unit consumed:-  310\n"
     ]
    },
    {
     "ename": "TypeError",
     "evalue": "sum() takes at most 2 arguments (4 given)",
     "output_type": "error",
     "traceback": [
      "\u001b[0;31m---------------------------------------------------------------------------\u001b[0m",
      "\u001b[0;31mTypeError\u001b[0m                                 Traceback (most recent call last)",
      "Cell \u001b[0;32mIn[13], line 7\u001b[0m\n\u001b[1;32m      5\u001b[0m     sec_100 \u001b[38;5;241m=\u001b[39m \u001b[38;5;241m100\u001b[39m\u001b[38;5;241m*\u001b[39m\u001b[38;5;241m6\u001b[39m\n\u001b[1;32m      6\u001b[0m     third_100 \u001b[38;5;241m=\u001b[39m \u001b[38;5;241m100\u001b[39m\u001b[38;5;241m*\u001b[39m\u001b[38;5;241m10\u001b[39m\n\u001b[0;32m----> 7\u001b[0m     \u001b[38;5;28mprint\u001b[39m(\u001b[38;5;28;43msum\u001b[39;49m\u001b[43m(\u001b[49m\u001b[43mfirst_100\u001b[49m\u001b[43m,\u001b[49m\u001b[43msec_100\u001b[49m\u001b[43m,\u001b[49m\u001b[43mthird_100\u001b[49m\u001b[43m,\u001b[49m\u001b[43mafter_300\u001b[49m\u001b[43m)\u001b[49m)\n\u001b[1;32m      8\u001b[0m \u001b[38;5;28;01melse\u001b[39;00m:\n\u001b[1;32m      9\u001b[0m     \u001b[38;5;28;01mif\u001b[39;00m ele_unit\u001b[38;5;241m<\u001b[39m\u001b[38;5;241m=\u001b[39m\u001b[38;5;241m300\u001b[39m \u001b[38;5;129;01mor\u001b[39;00m ele_unit\u001b[38;5;241m>\u001b[39m\u001b[38;5;241m200\u001b[39m:\n",
      "\u001b[0;31mTypeError\u001b[0m: sum() takes at most 2 arguments (4 given)"
     ]
    }
   ],
   "source": [
    "ele_unit = int(input(\"enter unit consumed:- \"))\n",
    "if ele_unit >300:\n",
    "    after_300 = (ele_unit-300)*20\n",
    "    first_100 = 100*4.5\n",
    "    sec_100 = 100*6\n",
    "    third_100 = 100*10\n",
    "    print(first_100+sec_100+third_100,after_300))\n",
    "else:\n",
    "    if ele_unit<=300 or ele_unit>200:\n",
    "        first_100 = 100*4.5\n",
    "        sec_100 = 100*6\n",
    "        third_100 = (ele_unit-200)*10\n",
    "        print(sum(first_100,sec_100,third_100))\n",
    "    elif ele_unit<=200 or ele_unit>100:\n",
    "        first_100 = 100*4.5\n",
    "        sec_100 = (ele_unit-100)*6\n",
    "        print(sum(first_100,sec_100))\n",
    "    else:\n",
    "        fist_100 = ele_unit*4.5\n",
    "        print(sum(first_100))"
   ]
  },
  {
   "cell_type": "markdown",
   "id": "4df84ef0-3f38-470f-931e-8b7e7ab0c642",
   "metadata": {},
   "source": [
    "Q4. Create a list of numbers from 1 to 100. \n",
    "Use for loop and while loop to calculate the cube of each number and if the cube of that number is divisible by 4 or 5 then append that number in a list and print  that list. \n"
   ]
  },
  {
   "cell_type": "markdown",
   "id": "18cf878a-e2de-4957-84c5-b2048648c59b",
   "metadata": {},
   "source": [
    "--> Using For Loop"
   ]
  },
  {
   "cell_type": "code",
   "execution_count": 5,
   "id": "3e57f90c-f2f2-4cb2-a3d8-ee5439945348",
   "metadata": {},
   "outputs": [
    {
     "name": "stdout",
     "output_type": "stream",
     "text": [
      "[2, 4, 5, 6, 8, 10, 12, 14, 15, 16, 18, 20, 22, 24, 25, 26, 28, 30, 32, 34, 35, 36, 38, 40, 42, 44, 45, 46, 48, 50, 52, 54, 55, 56, 58, 60, 62, 64, 65, 66, 68, 70, 72, 74, 75, 76, 78, 80, 82, 84, 85, 86, 88, 90, 92, 94, 95, 96, 98, 100]\n"
     ]
    }
   ],
   "source": [
    "ans_list = []\n",
    "for i in range(1,101):\n",
    "    n = i*i*i\n",
    "    if n%4==0 or n%5==0:\n",
    "        ans_list.append(i)\n",
    "print(ans_list)"
   ]
  },
  {
   "cell_type": "markdown",
   "id": "9d997a97-7a6a-4382-a57f-1cf7e86b7131",
   "metadata": {},
   "source": [
    "--> Using While Loop"
   ]
  },
  {
   "cell_type": "code",
   "execution_count": 7,
   "id": "61e1ea46-02cb-4790-85ac-abbe36e703a0",
   "metadata": {},
   "outputs": [
    {
     "name": "stdout",
     "output_type": "stream",
     "text": [
      "[2, 4, 5, 6, 8, 10, 12, 14, 15, 16, 18, 20, 22, 24, 25, 26, 28, 30, 32, 34, 35, 36, 38, 40, 42, 44, 45, 46, 48, 50, 52, 54, 55, 56, 58, 60, 62, 64, 65, 66, 68, 70, 72, 74, 75, 76, 78, 80, 82, 84, 85, 86, 88, 90, 92, 94, 95, 96, 98, 100]\n"
     ]
    }
   ],
   "source": [
    "ans_list = []\n",
    "n = 1\n",
    "while n<=100:\n",
    "    p = n*n*n\n",
    "    if p%4==0 or p%5==0:\n",
    "        ans_list.append(n)\n",
    "    n += 1\n",
    "print(ans_list)"
   ]
  },
  {
   "cell_type": "markdown",
   "id": "16349cd3-a8f9-4916-9ec4-a448b1bb2ecf",
   "metadata": {},
   "source": [
    "Q5.  Write a program to filter count vowels in the below-given string. \n",
    "string = \"I want to become a data scientist\" \n"
   ]
  },
  {
   "cell_type": "code",
   "execution_count": 10,
   "id": "6f764af5-3243-4352-92b2-f674ceede0a6",
   "metadata": {},
   "outputs": [
    {
     "name": "stdout",
     "output_type": "stream",
     "text": [
      "Total vowels is = 12\n"
     ]
    }
   ],
   "source": [
    "string = \"I want to become a data scientist\"\n",
    "vowels = [\"a\",\"e\",\"i\",\"o\",\"u\"]\n",
    "count = 0\n",
    "for i in string.lower():\n",
    "    if i in vowels:\n",
    "        count += 1\n",
    "print(\"Total vowels is =\",count)"
   ]
  }
 ],
 "metadata": {
  "kernelspec": {
   "display_name": "Python 3 (ipykernel)",
   "language": "python",
   "name": "python3"
  },
  "language_info": {
   "codemirror_mode": {
    "name": "ipython",
    "version": 3
   },
   "file_extension": ".py",
   "mimetype": "text/x-python",
   "name": "python",
   "nbconvert_exporter": "python",
   "pygments_lexer": "ipython3",
   "version": "3.10.8"
  }
 },
 "nbformat": 4,
 "nbformat_minor": 5
}
