{
 "cells": [
  {
   "cell_type": "markdown",
   "id": "ed73af2d-0b23-416f-89b1-3c79ab7f8b48",
   "metadata": {},
   "source": [
    "Shiva Saurbah"
   ]
  },
  {
   "cell_type": "markdown",
   "id": "52e6d6e5-617c-4de0-9aa5-d66b567100a3",
   "metadata": {},
   "source": [
    "Q1. Explain Class and Object with respect to Object-Oriented Programming. Give a suitable example."
   ]
  },
  {
   "cell_type": "markdown",
   "id": "86a864af-8950-4025-b7a0-6006a9a0c8cc",
   "metadata": {},
   "source": [
    "--> Class is a blueprint for the object we want to create. for example:-\n",
    "\n",
    "    we can think of the class as a sketch of a car. It contains all the details about the tyres, doors, windows, etc. Based on these descriptions we build a car.and here car is the object.\n",
    "    ex:-\n",
    "        class car():\n",
    "            pass\n",
    "\n",
    "--> Objects are the instance of the class. for example:-\n",
    "\n",
    "    if we do   WagonR = car()\n",
    "    WagonR is a object of car class."
   ]
  },
  {
   "cell_type": "code",
   "execution_count": 10,
   "id": "ff70e876-3271-407e-a4c3-dbee316494a2",
   "metadata": {},
   "outputs": [],
   "source": [
    "#example\n",
    "class car:\n",
    "    def detials(self):\n",
    "        return \"A red coloured car.\""
   ]
  },
  {
   "cell_type": "code",
   "execution_count": 11,
   "id": "8493ed39-ab8f-404a-a972-9e5555b0103b",
   "metadata": {},
   "outputs": [
    {
     "data": {
      "text/plain": [
       "'A red coloured car.'"
      ]
     },
     "execution_count": 11,
     "metadata": {},
     "output_type": "execute_result"
    }
   ],
   "source": [
    "WagonR = car()\n",
    "WagonR.detials()"
   ]
  },
  {
   "cell_type": "markdown",
   "id": "a7672d9d-4b87-4d46-923a-de4c5219de4a",
   "metadata": {},
   "source": [
    " Q2. Name the four pillars of OOPs. "
   ]
  },
  {
   "cell_type": "markdown",
   "id": "a1cd600d-86f3-4fce-ad9a-40ed958ae907",
   "metadata": {},
   "source": [
    "--> The four pillars of OOPs are:-\n",
    "\n",
    "    1. Inheritance\n",
    "    2. Polymorphism\n",
    "    3. Encapsulation\n",
    "    4. Abstraction"
   ]
  },
  {
   "cell_type": "markdown",
   "id": "1fa6a93a-1ae3-4a8e-88bf-7b4101ac09cd",
   "metadata": {},
   "source": [
    "Q3. Explain why the __init__() function is used. Give a suitable example. "
   ]
  },
  {
   "cell_type": "markdown",
   "id": "3e667f16-c42b-4e52-baec-a9e3d210671e",
   "metadata": {},
   "source": [
    "--> init() function is used to initialize the attributes of an object as soon as the object is formed. \n"
   ]
  },
  {
   "cell_type": "code",
   "execution_count": 18,
   "id": "3fa1b619-60bc-441e-81cf-8868784059b4",
   "metadata": {},
   "outputs": [],
   "source": [
    "#example\n",
    "class car:\n",
    "    def __init__(self,car_color):\n",
    "        self.car_color = car_color\n",
    "    def details(self):\n",
    "        return self.car_color"
   ]
  },
  {
   "cell_type": "code",
   "execution_count": 19,
   "id": "3aeedf81-1d3c-4fb7-8c9a-6f470dcedc33",
   "metadata": {},
   "outputs": [
    {
     "data": {
      "text/plain": [
       "'Red'"
      ]
     },
     "execution_count": 19,
     "metadata": {},
     "output_type": "execute_result"
    }
   ],
   "source": [
    "WagonR = car(\"Red\")\n",
    "WagonR.details()"
   ]
  },
  {
   "cell_type": "markdown",
   "id": "cd1f42bc-fc77-4cd5-afb9-c5cec84da756",
   "metadata": {},
   "source": [
    "Q4. Why self is used in OOPs? "
   ]
  },
  {
   "cell_type": "markdown",
   "id": "10c8d750-38f6-41e7-875d-a774f844b2d0",
   "metadata": {},
   "source": [
    "The self parameter is a reference to the current instance(object) of the class, and is used to access variables that belongs to the class.\n",
    "\n",
    "Note:- self is not a reserved keyword we can use other name(ex:-shiva) also."
   ]
  },
  {
   "cell_type": "markdown",
   "id": "0c8c6d10-131a-4d1d-8879-92e91ee2883f",
   "metadata": {},
   "source": [
    "Q5. What is inheritance? Give an example for each type of inheritance."
   ]
  },
  {
   "cell_type": "markdown",
   "id": "48ab17e5-d18b-4d47-894e-2fadd1d876a8",
   "metadata": {},
   "source": [
    "--> Inheritance means inheriting.\n",
    "\n",
    "--> Inheritance allows us to create a new class from an existing class(by inheriting properties of parent class).\n",
    "\n",
    "--> Once a functionality is developed, we can simply inherit it. No need to rewrite the code again. This allows for cleaner code and easier to maintain."
   ]
  },
  {
   "cell_type": "markdown",
   "id": "493003c3-f5b2-49c4-8862-eab2cc98c399",
   "metadata": {},
   "source": [
    "--> types of Inheritance\n",
    "\n",
    "    1.Single Inheritance\n",
    "    2.Multiple Inheritance\n",
    "    3.Multilevel Inheritance\n",
    "    4.Hierarchical Inheritance\n",
    "    5.Hybrid Inheritance"
   ]
  },
  {
   "cell_type": "code",
   "execution_count": 28,
   "id": "59a50d0c-45a3-4ad7-9b18-ede39d40121b",
   "metadata": {},
   "outputs": [
    {
     "name": "stdout",
     "output_type": "stream",
     "text": [
      "parent class function.\n",
      "child class function.\n"
     ]
    }
   ],
   "source": [
    "# Example of Single Inheritance\n",
    "\n",
    "class Parent:\n",
    "\tdef func1(self):\n",
    "\t\tprint(\"parent class function.\")\n",
    "class Child(Parent):\n",
    "\tdef func2(self):\n",
    "\t\tprint(\"child class function.\")\n",
    "object = Child()\n",
    "object.func1()\n",
    "object.func2()"
   ]
  },
  {
   "cell_type": "code",
   "execution_count": 29,
   "id": "81e4acec-0e94-471b-92ee-0400032e75e3",
   "metadata": {},
   "outputs": [
    {
     "name": "stdout",
     "output_type": "stream",
     "text": [
      "Father : RAM\n",
      "Mother : SITA\n"
     ]
    }
   ],
   "source": [
    "# Example of Multiple Inheritance\n",
    "\n",
    "class Mother:\n",
    "\tmothername = \"\"\n",
    "\tdef mother(self):\n",
    "\t\tprint(self.mothername)\n",
    "class Father:\n",
    "\tfathername = \"\"\n",
    "\tdef father(self):\n",
    "\t\tprint(self.fathername)\n",
    "class Son(Mother, Father):\n",
    "\tdef parents(self):\n",
    "\t\tprint(\"Father :\", self.fathername)\n",
    "\t\tprint(\"Mother :\", self.mothername)\n",
    "s1 = Son()\n",
    "s1.fathername = \"RAM\"\n",
    "s1.mothername = \"SITA\"\n",
    "s1.parents()"
   ]
  },
  {
   "cell_type": "code",
   "execution_count": 2,
   "id": "ad6ed334-c881-4f1b-97cc-408571a5f7d0",
   "metadata": {},
   "outputs": [
    {
     "name": "stdout",
     "output_type": "stream",
     "text": [
      "Grandfather name : Lal mani\n",
      "Father name : Rampal\n",
      "Son name : Prince\n"
     ]
    }
   ],
   "source": [
    "# Example of Multilevel Inheritance\n",
    "class Grandfather:\n",
    "\tdef __init__(self, grandfathername):\n",
    "\t\tself.grandfathername = grandfathername\n",
    "class Father(Grandfather):\n",
    "\tdef __init__(self, fathername, grandfathername):\n",
    "\t\tself.fathername = fathername\n",
    "\t\tGrandfather.__init__(self, grandfathername)\n",
    "class Son(Father):\n",
    "\tdef __init__(self, sonname, fathername, grandfathername):\n",
    "\t\tself.sonname = sonname\n",
    "\t\tFather.__init__(self, fathername, grandfathername)\n",
    "\tdef print_name(self):\n",
    "\t\tprint('Grandfather name :', self.grandfathername)\n",
    "\t\tprint(\"Father name :\", self.fathername)\n",
    "\t\tprint(\"Son name :\", self.sonname)\n",
    "s1 = Son('Prince', 'Rampal', 'Lal mani')\n",
    "s1.grandfathername\n",
    "s1.print_name()\n"
   ]
  },
  {
   "cell_type": "code",
   "execution_count": 3,
   "id": "bb4c4ee8-e3f2-453a-9a8b-ae99fb0d7a41",
   "metadata": {},
   "outputs": [
    {
     "name": "stdout",
     "output_type": "stream",
     "text": [
      "This function is in parent class.\n",
      "This function is in child 1.\n",
      "This function is in parent class.\n",
      "This function is in child 2.\n"
     ]
    }
   ],
   "source": [
    "# Example of Hierarchical Inheritance\n",
    "\n",
    "class Parent:\n",
    "\tdef func1(self):\n",
    "\t\tprint(\"This function is in parent class.\")\n",
    "class Child1(Parent):\n",
    "\tdef func2(self):\n",
    "\t\tprint(\"This function is in child 1.\")\n",
    "class Child2(Parent):\n",
    "\tdef func3(self):\n",
    "\t\tprint(\"This function is in child 2.\")\n",
    "object1 = Child1()\n",
    "object2 = Child2()\n",
    "object1.func1()\n",
    "object1.func2()\n",
    "object2.func1()\n",
    "object2.func3()"
   ]
  },
  {
   "cell_type": "code",
   "execution_count": 4,
   "id": "521318c4-0fc7-4fc9-b542-64070ad25174",
   "metadata": {},
   "outputs": [
    {
     "name": "stdout",
     "output_type": "stream",
     "text": [
      "This function is in school.\n",
      "This function is in student 1. \n"
     ]
    }
   ],
   "source": [
    "# Example of Hybrid Inheritance\n",
    "\n",
    "class School:\n",
    "\tdef func1(self):\n",
    "\t\tprint(\"This function is in school.\")\n",
    "class Student1(School):\n",
    "\tdef func2(self):\n",
    "\t\tprint(\"This function is in student 1. \")\n",
    "class Student2(School):\n",
    "\tdef func3(self):\n",
    "\t\tprint(\"This function is in student 2.\")\n",
    "class Student3(Student1, School):\n",
    "\tdef func4(self):\n",
    "\t\tprint(\"This function is in student 3.\")\n",
    "object = Student3()\n",
    "object.func1()\n",
    "object.func2()"
   ]
  },
  {
   "cell_type": "code",
   "execution_count": null,
   "id": "b28c7632-462d-4110-883c-e1869c1f00f2",
   "metadata": {},
   "outputs": [],
   "source": []
  }
 ],
 "metadata": {
  "kernelspec": {
   "display_name": "Python 3 (ipykernel)",
   "language": "python",
   "name": "python3"
  },
  "language_info": {
   "codemirror_mode": {
    "name": "ipython",
    "version": 3
   },
   "file_extension": ".py",
   "mimetype": "text/x-python",
   "name": "python",
   "nbconvert_exporter": "python",
   "pygments_lexer": "ipython3",
   "version": "3.10.8"
  }
 },
 "nbformat": 4,
 "nbformat_minor": 5
}
