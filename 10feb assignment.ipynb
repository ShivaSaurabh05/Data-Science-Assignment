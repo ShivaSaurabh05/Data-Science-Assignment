{
 "cells": [
  {
   "cell_type": "markdown",
   "id": "3872d05a-bbd3-4a6f-81d4-05c00a276fe5",
   "metadata": {},
   "source": [
    "Q1. Which function is used to open a file? What are the different modes of opening a file? Explain each mode\n",
    "of file opening.\n",
    "\n",
    "* open() is used to open a file.\n",
    "* there are many mode:- 'r','w','x','a','b','t','+','U'\n",
    "\n",
    "   --> Mostly we uses are:- 'w', 'r' and 'a'\n",
    "*   \n",
    "    - 'r'       open for reading (default)\n",
    "    - 'w'       open for writing, truncating the file first\n",
    "    - 'x'       create a new file and open it for writing\n",
    "    - 'a'       open for writing, appending to the end of the file if it exists\n",
    "    - 'b'       binary mode\n",
    "    - 't'       text mode (default)\n",
    "    - '+'       open a disk file for updating (reading and writing)\n",
    "    - 'U'       universal newline mode (deprecated)"
   ]
  },
  {
   "cell_type": "markdown",
   "id": "df03a22c-fbbe-4c56-953f-39752e3ce0c6",
   "metadata": {},
   "source": [
    "Q2. Why close() function is used? Why is it important to close a file?\n",
    "\n",
    "--> close() function is used to close the open file.\n",
    "\n",
    "--> Why is it important to close a file.\n",
    "- If the file has any sort of buffering behind it it and we don't call close then we could potentially lose data.\n",
    "- If the OS has limited resources (e.g. number of open files) then by not closing files you are wasting system resources.\n"
   ]
  },
  {
   "cell_type": "markdown",
   "id": "36b74576-2442-4f60-a2f1-a2b756ad915e",
   "metadata": {},
   "source": [
    "Q3. Write a python program to create a text file. Write ‘I want to become a Data Scientist’ in that file. Then\n",
    "close the file. Open this file and read the content of the file."
   ]
  },
  {
   "cell_type": "code",
   "execution_count": 6,
   "id": "c8a52871-7c0e-469c-bdd0-b5807c45b921",
   "metadata": {},
   "outputs": [],
   "source": [
    "file = open(\"data_science.txt\",'w')"
   ]
  },
  {
   "cell_type": "code",
   "execution_count": 7,
   "id": "7d5482df-a7aa-46a7-9cd0-0c0744d2ddbf",
   "metadata": {},
   "outputs": [
    {
     "data": {
      "text/plain": [
       "34"
      ]
     },
     "execution_count": 7,
     "metadata": {},
     "output_type": "execute_result"
    }
   ],
   "source": [
    "file.write(\"I want to become a Data Scientist.\")"
   ]
  },
  {
   "cell_type": "code",
   "execution_count": 8,
   "id": "5316fee2-847e-4591-8869-6bc5e6eac07e",
   "metadata": {},
   "outputs": [],
   "source": [
    "file.close()"
   ]
  },
  {
   "cell_type": "code",
   "execution_count": 9,
   "id": "3084a004-3c9c-4f20-b814-e29b02715c99",
   "metadata": {},
   "outputs": [
    {
     "name": "stdout",
     "output_type": "stream",
     "text": [
      "I want to become a Data Scientist.\n"
     ]
    }
   ],
   "source": [
    "with open(\"data_science.txt\",'r') as f:\n",
    "    data = f.read()\n",
    "    print(data)"
   ]
  },
  {
   "cell_type": "markdown",
   "id": "daad1908-233a-4d85-91ba-e9dfca387e92",
   "metadata": {},
   "source": [
    "Q4. Explain the following with python code: read(), readline() and readlines()."
   ]
  },
  {
   "cell_type": "code",
   "execution_count": 1,
   "id": "8399ab83-0c43-4df1-90b6-328a5fed311d",
   "metadata": {},
   "outputs": [],
   "source": [
    "with open(\"question4.txt\",'w') as f:\n",
    "    f.write(\"\"\"Information can be passed into functions as arguments.\n",
    "\n",
    "Arguments are specified after the function name, inside the parentheses. You can add as many arguments as you want, just separate them with a comma.\n",
    "\n",
    "The following example has a function with one argument (fname). When the function is called, we pass along a first name, which is used inside the function to print the full name:\"\"\")"
   ]
  },
  {
   "cell_type": "code",
   "execution_count": 12,
   "id": "36cbe453-f456-4090-a04b-52998c3bb224",
   "metadata": {},
   "outputs": [
    {
     "name": "stdout",
     "output_type": "stream",
     "text": [
      "Information can be passed into functions as arguments.\n",
      "\n",
      "Arguments are specified after the function name, inside the parentheses. You can add as many arguments as you want, just separate them with a comma.\n",
      "\n",
      "The following example has a function with one argument (fname). When the function is called, we pass along a first name, which is used inside the function to print the full name:\n"
     ]
    }
   ],
   "source": [
    "# read() is used to read the file.\n",
    "with open(\"question4.txt\",'r') as f:\n",
    "    reader = f.read()\n",
    "    print(reader)"
   ]
  },
  {
   "cell_type": "code",
   "execution_count": 15,
   "id": "a952c796-2892-48dc-b1b1-dc39a858042b",
   "metadata": {},
   "outputs": [
    {
     "name": "stdout",
     "output_type": "stream",
     "text": [
      "Information can be passed into functions as arguments.\n",
      "\n"
     ]
    }
   ],
   "source": [
    "# readline is used to return one line from the file when called.\n",
    "with open(\"question4.txt\",'r') as f:\n",
    "    reader = f.readline()\n",
    "    print(reader)"
   ]
  },
  {
   "cell_type": "code",
   "execution_count": 16,
   "id": "42788160-7e6d-4554-a122-464ed163345c",
   "metadata": {},
   "outputs": [
    {
     "name": "stdout",
     "output_type": "stream",
     "text": [
      "['Information can be passed into functions as arguments.\\n', '\\n', 'Arguments are specified after the function name, inside the parentheses. You can add as many arguments as you want, just separate them with a comma.\\n', '\\n', 'The following example has a function with one argument (fname). When the function is called, we pass along a first name, which is used inside the function to print the full name:']\n"
     ]
    }
   ],
   "source": [
    "# readlines is used return all the lines in a file in the format of a list \n",
    "# where each element is a line in the file.\n",
    "with open(\"question4.txt\",'r') as f:\n",
    "    reader = f.readlines()\n",
    "    print(reader)"
   ]
  },
  {
   "cell_type": "markdown",
   "id": "84eb3e21-4027-4779-8282-d0737ed3f6af",
   "metadata": {},
   "source": [
    "Q5. Explain why with statement is used with open(). What is the advantage of using with statement and\n",
    "open() together?\n",
    "\n",
    "* with statement simplifies exception handling by encapsulating common preparation and cleanup tasks.” In addition, it will automatically close the file. The with statement provides a way for ensuring that a clean-up is always used.\n",
    "\n",
    "* By using with with open() we don't need to close the file, it automatically closes the file."
   ]
  },
  {
   "cell_type": "markdown",
   "id": "1e2f4d7b-d736-4751-942c-5bff8d375d66",
   "metadata": {},
   "source": [
    "Q6. Explain the write() and writelines() functions. Give a suitable example.\n",
    "\n",
    "--> write()\n",
    "* The write() function will write the content in the file without adding any extra characters.\n",
    "\n",
    "--> writelines()\n",
    "* writelines() function writes the content of a list to a file.\n",
    "\n",
    "* Note:- The only difference between the write() and writelines() is that write() is used to write a string to an already opened file while writelines() method is used to write a list of strings in an opened file."
   ]
  },
  {
   "cell_type": "code",
   "execution_count": 1,
   "id": "91d23607-0cf1-4040-b1ea-e3a6523d795e",
   "metadata": {},
   "outputs": [],
   "source": [
    "# Example of write\n",
    "file = open(\"question_6.txt\",'w')\n",
    "file.write(\"write function\")\n",
    "file.close()"
   ]
  },
  {
   "cell_type": "code",
   "execution_count": 2,
   "id": "bc0e663d-b239-4198-b78b-f7b4a560ef9b",
   "metadata": {},
   "outputs": [
    {
     "name": "stdout",
     "output_type": "stream",
     "text": [
      "write function\n"
     ]
    }
   ],
   "source": [
    "with open(\"question_6.txt\",'r') as f:\n",
    "    data = f.read()\n",
    "    print(data)"
   ]
  },
  {
   "cell_type": "code",
   "execution_count": 3,
   "id": "d82c773a-2f54-412b-99af-db605268877c",
   "metadata": {},
   "outputs": [],
   "source": [
    "# Example of writelines\n",
    "file = file = open(\"question_6.txt\",'a')\n",
    "file.writelines(\"\"\"As per the syntax, the list of strings that is passed to the writelines() \n",
    "function is written into the opened file.\n",
    "Similar to the write() function, the writelines() \n",
    "function does not add a newline character(\\n) to the end of the string.\"\"\")\n",
    "file.close()"
   ]
  },
  {
   "cell_type": "code",
   "execution_count": 4,
   "id": "30d75a59-10b5-49a9-9f38-3a17d9f94a84",
   "metadata": {},
   "outputs": [
    {
     "name": "stdout",
     "output_type": "stream",
     "text": [
      "write functionAs per the syntax, the list of strings that is passed to the writelines() \n",
      "function is written into the opened file.\n",
      "Similar to the write() function, the writelines() \n",
      "function does not add a newline character(\n",
      ") to the end of the string.\n"
     ]
    }
   ],
   "source": [
    "with open(\"question_6.txt\",'r') as f:\n",
    "    data = f.read()\n",
    "    print(data)"
   ]
  },
  {
   "cell_type": "code",
   "execution_count": null,
   "id": "eb9ccae8-a34d-443f-a36c-8a39ca178f76",
   "metadata": {},
   "outputs": [],
   "source": []
  }
 ],
 "metadata": {
  "kernelspec": {
   "display_name": "Python 3 (ipykernel)",
   "language": "python",
   "name": "python3"
  },
  "language_info": {
   "codemirror_mode": {
    "name": "ipython",
    "version": 3
   },
   "file_extension": ".py",
   "mimetype": "text/x-python",
   "name": "python",
   "nbconvert_exporter": "python",
   "pygments_lexer": "ipython3",
   "version": "3.10.8"
  }
 },
 "nbformat": 4,
 "nbformat_minor": 5
}
