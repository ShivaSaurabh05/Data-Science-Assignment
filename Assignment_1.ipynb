{
 "cells": [
  {
   "cell_type": "markdown",
   "id": "7de53937-50d0-4702-8192-f3adf1ecd9d7",
   "metadata": {},
   "source": [
    "1. Who developed Python Programming Language? \n",
    "--> Python was developed by \"Guido van Rossum\"."
   ]
  },
  {
   "cell_type": "markdown",
   "id": "f1250a50-0956-4171-a8f5-82e42f4d42ee",
   "metadata": {},
   "source": [
    "2. Which type of Programming does Python support? \n",
    "-->Python supports \n",
    "        Object oriented programming\n",
    "        structured programming\n",
    "        functional programming"
   ]
  },
  {
   "cell_type": "markdown",
   "id": "749fd844-8459-4476-a8f5-026b83a49e51",
   "metadata": {},
   "source": [
    "3. Is Python case sensitive when dealing with identifiers? \n",
    "-->YES"
   ]
  },
  {
   "cell_type": "markdown",
   "id": "529ff760-a1a8-4e5c-959f-0a3c1f95e9dc",
   "metadata": {},
   "source": [
    "4. What is the correct extension of the Python file?\n",
    "--> .py"
   ]
  },
  {
   "cell_type": "markdown",
   "id": "ad8de462-497c-45d4-bed2-8545bf24dca0",
   "metadata": {},
   "source": [
    "5. Is Python code compiled or interpreted? \n",
    "-->interpreted"
   ]
  },
  {
   "cell_type": "markdown",
   "id": "d1372160-9335-4af8-a359-282680286f8c",
   "metadata": {},
   "source": [
    "6. Name a few blocks of code used to define in Python language? \n",
    "--> Indentation(:) is used to define a block of code in Python.\n",
    "    for block\n",
    "        for i in range(3):\n",
    "            do something\n",
    "            \n",
    "    if,elif,else block\n",
    "    if something:\n",
    "        do\n",
    "    elif something:\n",
    "        do\n",
    "    else:\n",
    "        do\n",
    "        \n",
    "    while block\n",
    "    while something:\n",
    "        do"
   ]
  },
  {
   "cell_type": "markdown",
   "id": "017cbc1b-81e4-4d77-b78d-97b75cc07a29",
   "metadata": {},
   "source": [
    "7. State a character used to give single-line comments in Python?\n",
    "--> # is used to give single-line comments in Python."
   ]
  },
  {
   "cell_type": "markdown",
   "id": "50b45081-dc49-4cb1-a410-a7634baad2d6",
   "metadata": {},
   "source": [
    "8. Mention functions which can help us to find the version of python that we are currently working on?\n",
    "--> By importing sys\n",
    "    then sys.version"
   ]
  },
  {
   "cell_type": "code",
   "execution_count": 2,
   "id": "9e7f107e-10e8-4bd1-b37e-7bb8fa01fce0",
   "metadata": {},
   "outputs": [
    {
     "data": {
      "text/plain": [
       "'3.10.6 | packaged by conda-forge | (main, Aug 22 2022, 20:35:26) [GCC 10.4.0]'"
      ]
     },
     "execution_count": 2,
     "metadata": {},
     "output_type": "execute_result"
    }
   ],
   "source": [
    "import sys\n",
    "sys.version"
   ]
  },
  {
   "cell_type": "markdown",
   "id": "d9bebd1d-c531-4201-9d21-61b8b0dd32da",
   "metadata": {},
   "source": [
    "9. Python supports the creation of anonymous functions at runtime, using a construct called\n",
    "--> Lambda"
   ]
  },
  {
   "cell_type": "markdown",
   "id": "2a0eef0f-d7a8-443d-9f9b-6b388781cad7",
   "metadata": {},
   "source": [
    "10. What does pip stand for python? \n",
    "--> \"Preferred Installer Program”"
   ]
  },
  {
   "cell_type": "markdown",
   "id": "3198e6a3-4d95-4471-8a52-e89086ab46b2",
   "metadata": {},
   "source": [
    "11. Mention a few built-in functions in python?\n",
    "--> there are:-\n",
    "        len(),count(),upper(),lower(),update(),del,replace(),find() ....."
   ]
  },
  {
   "cell_type": "markdown",
   "id": "c79e743a-c0f5-44af-ad1f-c701c87a4032",
   "metadata": {},
   "source": [
    "12. What is the maximum possible length of an identifier in Python? \n",
    "--> 79"
   ]
  },
  {
   "cell_type": "markdown",
   "id": "3faa666d-509a-43c7-a34d-53656814fc89",
   "metadata": {},
   "source": [
    "13. What are the benefits of using Python? \n",
    "-->simple to use with easier syntax\n",
    "-->produce more result with less line of code\n",
    "-->many libraries available to work with\n",
    "-->can be used in many industries"
   ]
  },
  {
   "cell_type": "markdown",
   "id": "dcf381d0-56a2-4476-a3ce-2caa54fffb16",
   "metadata": {},
   "source": [
    "14. How is memory managed in Python?\n",
    "--> Memory in Python is managed by Python private heap space. All Python objects and data structures are located in a private heap. This private heap is taken care of by Python Interpreter itself, and a programmer doesn't have access to this private heap."
   ]
  },
  {
   "cell_type": "markdown",
   "id": "c7742851-02eb-4e5a-8ae1-d68b4b8354d7",
   "metadata": {},
   "source": [
    "15. How to install Python on Windows and set path variables?\n",
    "--> By searching \"download python for windows\" in web browser\n",
    "    then after downloading .exe file excute it and go with the steps shown there\n",
    "    then choose \"add Path\" checkbox there"
   ]
  },
  {
   "cell_type": "markdown",
   "id": "b7455599-ca86-4d4e-83e5-6faa672aa698",
   "metadata": {},
   "source": [
    "16. Is indentation required in python? \n",
    "--> Yes it is required."
   ]
  }
 ],
 "metadata": {
  "kernelspec": {
   "display_name": "Python 3 (ipykernel)",
   "language": "python",
   "name": "python3"
  },
  "language_info": {
   "codemirror_mode": {
    "name": "ipython",
    "version": 3
   },
   "file_extension": ".py",
   "mimetype": "text/x-python",
   "name": "python",
   "nbconvert_exporter": "python",
   "pygments_lexer": "ipython3",
   "version": "3.10.6"
  }
 },
 "nbformat": 4,
 "nbformat_minor": 5
}
