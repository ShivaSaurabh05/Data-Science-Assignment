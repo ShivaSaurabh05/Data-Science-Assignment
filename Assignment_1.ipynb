{
 "cells": [
  {
   "cell_type": "raw",
   "id": "5a3fb02e-de95-494a-8c6e-b4fb7c0bb0aa",
   "metadata": {},
   "source": [
    "1. Who developed Python Programming Language? \n",
    "--> Python was developed by \"Guido van Rossum\"."
   ]
  },
  {
   "cell_type": "raw",
   "id": "38bc8704-1da1-415c-be21-a567bcd01c4f",
   "metadata": {},
   "source": [
    "2. Which type of Programming does Python support? \n",
    "-->Python supports \n",
    "        Object oriented programming\n",
    "        structured programming\n",
    "        functional programming"
   ]
  },
  {
   "cell_type": "raw",
   "id": "f33375a0-1eb2-4620-a155-3a7529643a19",
   "metadata": {},
   "source": [
    "3. Is Python case sensitive when dealing with identifiers? \n",
    "-->YES"
   ]
  },
  {
   "cell_type": "raw",
   "id": "3af257dc-9855-43a7-97d8-7246b6fb3768",
   "metadata": {},
   "source": [
    "4. What is the correct extension of the Python file?\n",
    "--> .py"
   ]
  },
  {
   "cell_type": "raw",
   "id": "4433411c-4ade-4db6-8e24-bf90c85f8726",
   "metadata": {},
   "source": [
    "5. Is Python code compiled or interpreted? \n",
    "-->interpreted"
   ]
  },
  {
   "cell_type": "raw",
   "id": "ff803311-4102-4218-b922-00e2c1e8b5f1",
   "metadata": {},
   "source": [
    "6. Name a few blocks of code used to define in Python language? \n",
    "--> Indentation(:) is used to define a block of code in Python.\n",
    "    for block\n",
    "        for i in range(3):\n",
    "            do something\n",
    "            \n",
    "    if,elif,else block\n",
    "    if something:\n",
    "        do\n",
    "    elif something:\n",
    "        do\n",
    "    else:\n",
    "        do\n",
    "        \n",
    "    while block\n",
    "    while something:\n",
    "        do"
   ]
  },
  {
   "cell_type": "raw",
   "id": "ad78f869-5d55-46b7-9bb6-d1a10202d9c2",
   "metadata": {},
   "source": [
    "7. State a character used to give single-line comments in Python?\n",
    "--> # is used to give single-line comments in Python."
   ]
  },
  {
   "cell_type": "raw",
   "id": "bd98d4aa-766d-4158-b0f0-2d7fd2e8de10",
   "metadata": {},
   "source": [
    "8. Mention functions which can help us to find the version of python that we are currently working on?\n",
    "--> By importing sys\n",
    "    then sys.version"
   ]
  },
  {
   "cell_type": "code",
   "execution_count": 2,
   "id": "9e7f107e-10e8-4bd1-b37e-7bb8fa01fce0",
   "metadata": {},
   "outputs": [
    {
     "data": {
      "text/plain": [
       "'3.10.6 | packaged by conda-forge | (main, Aug 22 2022, 20:35:26) [GCC 10.4.0]'"
      ]
     },
     "execution_count": 2,
     "metadata": {},
     "output_type": "execute_result"
    }
   ],
   "source": [
    "import sys\n",
    "sys.version"
   ]
  },
  {
   "cell_type": "raw",
   "id": "545f42d5-7b4d-4875-9b94-22b581a03304",
   "metadata": {},
   "source": [
    "9. Python supports the creation of anonymous functions at runtime, using a construct called\n",
    "--> Lambda"
   ]
  },
  {
   "cell_type": "raw",
   "id": "a826164d-3a1d-4a9a-b5e1-d9243f2a5752",
   "metadata": {},
   "source": [
    "10. What does pip stand for python? \n",
    "--> \"Preferred Installer Program”"
   ]
  },
  {
   "cell_type": "raw",
   "id": "9292ccf9-fdbb-457c-8ac9-b4abaaf6bb21",
   "metadata": {},
   "source": [
    "11. Mention a few built-in functions in python?\n",
    "--> there are:-\n",
    "        len(),count(),upper(),lower(),update(),del,replace(),find() ....."
   ]
  },
  {
   "cell_type": "raw",
   "id": "70bf2e4a-efd1-4b51-ad55-3bbfce8de8c8",
   "metadata": {},
   "source": [
    "12. What is the maximum possible length of an identifier in Python? \n",
    "--> 79"
   ]
  },
  {
   "cell_type": "raw",
   "id": "690aea10-73d2-45d1-bc59-4ccddb0f3d3e",
   "metadata": {},
   "source": [
    "13. What are the benefits of using Python? \n",
    "-->simple to use with easier syntax\n",
    "-->produce more result with less line of code\n",
    "-->many libraries available to work with\n",
    "-->can be used in many industries"
   ]
  },
  {
   "cell_type": "raw",
   "id": "92645a82-8ba1-4310-ad6e-a5e31cc27e56",
   "metadata": {},
   "source": [
    "14. How is memory managed in Python?\n",
    "--> Memory in Python is managed by Python private heap space. All Python objects and data structures are located in a private heap. This private heap is taken care of by Python Interpreter itself, and a programmer doesn't have access to this private heap."
   ]
  },
  {
   "cell_type": "raw",
   "id": "65ce539a-a39a-40a0-9ba2-46d0062b0b25",
   "metadata": {},
   "source": [
    "15. How to install Python on Windows and set path variables?\n",
    "--> By searching \"download python for windows\" in web browser\n",
    "    then after downloading .exe file excute it and go with the steps shown there\n",
    "    then choose \"add Path\" checkbox there"
   ]
  },
  {
   "cell_type": "raw",
   "id": "37f1e78b-cfa7-4339-bf1c-01812ac6a80c",
   "metadata": {},
   "source": [
    "16. Is indentation required in python? \n",
    "--> Yes it is required."
   ]
  }
 ],
 "metadata": {
  "kernelspec": {
   "display_name": "Python 3 (ipykernel)",
   "language": "python",
   "name": "python3"
  },
  "language_info": {
   "codemirror_mode": {
    "name": "ipython",
    "version": 3
   },
   "file_extension": ".py",
   "mimetype": "text/x-python",
   "name": "python",
   "nbconvert_exporter": "python",
   "pygments_lexer": "ipython3",
   "version": "3.10.6"
  }
 },
 "nbformat": 4,
 "nbformat_minor": 5
}
