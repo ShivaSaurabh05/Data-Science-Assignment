{
 "cells": [
  {
   "cell_type": "markdown",
   "id": "5d94710b-7dad-48d2-a74c-04e6c384fd50",
   "metadata": {},
   "source": [
    "Q1. What is Abstraction in OOps? Explain with an example."
   ]
  },
  {
   "cell_type": "markdown",
   "id": "9e98c06c-2036-4a0d-9bf6-27883b8762d7",
   "metadata": {},
   "source": [
    "--> Abstraction is a process of hiding the implementation details from the user only higlighting set of services provide to\n",
    "    the user.\n",
    "    \n",
    "    Example:- we can start a car by turning the key or pressing the start button but we don't know how the engine is getting started."
   ]
  },
  {
   "cell_type": "markdown",
   "id": "7526d1f4-bedf-42f5-a587-30da787b76ca",
   "metadata": {},
   "source": [
    "Q2. Differentiate between Abstraction and Encapsulation. Explain with an example."
   ]
  },
  {
   "cell_type": "markdown",
   "id": "c48bd9fd-fef7-4da9-900b-5d7a561ccc69",
   "metadata": {},
   "source": [
    "--> Differences between Abstraction and Encapsulation\n",
    "\n",
    "* Abstraction shows only useful data by providing the most necessary details, whereas Encapsulation wraps code and data for necessary information.\n",
    "\n",
    "* Abstraction is focused mainly on what should be done, while Encapsulation is focused on how it should be done.\n",
    "\n",
    "* Abstraction hides complexity by giving you a more abstract picture, while Encapsulation hides internal work so that you can change it later."
   ]
  },
  {
   "cell_type": "markdown",
   "id": "fde43ddf-0ced-4ea9-aca2-c8607a2817ed",
   "metadata": {},
   "source": [
    "Q3. What is abc module in python? Why is it used?"
   ]
  },
  {
   "cell_type": "markdown",
   "id": "44a87a07-d114-424b-97c9-b58dc5ac17a9",
   "metadata": {},
   "source": [
    "--> The 'abc' module in Python library provides the infrastructure for defining custom abstract base classes. 'abc' works by marking methods of the base class as abstract. This is done by @absttractmethod decorator.\n",
    "\n",
    "--> An abstract base class is used as a blueprint for other classes. Abstract base classes are a powerful feature in Python since they help you define a blueprint for other classes that may have something in common."
   ]
  },
  {
   "cell_type": "markdown",
   "id": "eb66d0ef-44d4-44b1-8e51-29058db0eca2",
   "metadata": {},
   "source": [
    "Q4. How can we achieve data abstraction?"
   ]
  },
  {
   "cell_type": "markdown",
   "id": "9f94c4c6-2a3f-4994-9fec-acbc6484a228",
   "metadata": {},
   "source": [
    "--> Data Abstraction in Python can be achieved through creating abstract classes and inheriting them later. "
   ]
  },
  {
   "cell_type": "markdown",
   "id": "e0f7b197-fe28-461e-bee2-9dee7398623c",
   "metadata": {},
   "source": [
    "Q5. Can we create an instance of an abstract class? Explain your answer.\n",
    "\n",
    "--> No, we cannot create an instance of an abstract class in Python. An abstract class is a class that contains one or more abstract methods, which are methods declared but not defined in the class. The purpose of an abstract class is to provide a common interface for its subclasses, but it cannot be instantiated on its own.\n",
    "\n",
    "--> To create an instance of an abstract class, you need to create a subclass that implements all of the abstract methods defined in the abstract class. Once you have done that, you can create an instance of the subclass."
   ]
  },
  {
   "cell_type": "code",
   "execution_count": null,
   "id": "8593fdd5-1eb2-4d43-914e-ffe178b54575",
   "metadata": {},
   "outputs": [],
   "source": []
  }
 ],
 "metadata": {
  "kernelspec": {
   "display_name": "Python 3 (ipykernel)",
   "language": "python",
   "name": "python3"
  },
  "language_info": {
   "codemirror_mode": {
    "name": "ipython",
    "version": 3
   },
   "file_extension": ".py",
   "mimetype": "text/x-python",
   "name": "python",
   "nbconvert_exporter": "python",
   "pygments_lexer": "ipython3",
   "version": "3.10.8"
  }
 },
 "nbformat": 4,
 "nbformat_minor": 5
}
