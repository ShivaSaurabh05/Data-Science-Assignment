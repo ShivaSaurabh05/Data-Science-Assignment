{
 "cells": [
  {
   "cell_type": "markdown",
   "id": "ea1535c9-9b20-4e1d-a8e4-d16e794c5c4b",
   "metadata": {},
   "source": [
    "Q1. You are writing code for a company. The requirement of the company is that you create a python\n",
    "function that will check whether the password entered by the user is correct or not. The function should\n",
    "take the password as input and return the string “Valid Password” if the entered password follows the\n",
    "below-given password guidelines else it should return “Invalid Password”.\n",
    "\n",
    "Note: \n",
    "      1. The Password should contain at least two uppercase letters and at least two lowercase letters.\n",
    "\n",
    "      2. The Password should contain at least a number and three special characters.\n",
    "      \n",
    "      3. The length of the password should be 10 characters long."
   ]
  },
  {
   "cell_type": "code",
   "execution_count": 1,
   "id": "6aaaa2c8-6ba4-42c5-a3ad-09bf6d882e26",
   "metadata": {},
   "outputs": [
    {
     "name": "stdin",
     "output_type": "stream",
     "text": [
      "Please enter your passoward ? shiva123@!%$SAURABH\n"
     ]
    },
    {
     "name": "stdout",
     "output_type": "stream",
     "text": [
      "Valid Password\n"
     ]
    }
   ],
   "source": [
    "import string\n",
    "\n",
    "\n",
    "def check_password(password):\n",
    "\n",
    "    if len(password) >= 10:\n",
    "        count_lower_case = 0\n",
    "        count_upper_case = 0\n",
    "        count_special = 0\n",
    "        count_int = 0\n",
    "        for word in password:\n",
    "            if word in string.ascii_lowercase:\n",
    "                count_lower_case += 1\n",
    "                continue\n",
    "            elif word in string.ascii_uppercase:\n",
    "                count_upper_case += 1\n",
    "                continue\n",
    "            elif word in string.punctuation:\n",
    "                count_special += 1\n",
    "                continue\n",
    "            elif word in string.octdigits:\n",
    "                count_int += 1\n",
    "                continue\n",
    "        if count_lower_case >= 2 or count_upper_case >= 2 or count_special >= 3 or count_int >= 1:\n",
    "            return \"Valid Password\"\n",
    "        else:\n",
    "            return \"Invalid Password\"\n",
    "    else:\n",
    "        return \"Invalid Password\"\n",
    "    \n",
    "user_input = input(\"Please enter your passoward ?\")\n",
    "print(check_password(user_input))"
   ]
  },
  {
   "cell_type": "markdown",
   "id": "7b198fb4-c19d-429c-abed-8b2ec58ff4d2",
   "metadata": {},
   "source": [
    "Q2. Solve the below-given questions using at least one of the following:\n",
    "    \n",
    "1. Lambda functioJ\n",
    "2. Filter functioJ\n",
    "3. Zap functioJ\n",
    "4. List Comprehension\n",
    "\n",
    "Check if the string starts with a particular letter\n",
    "\n",
    "Check if the string is numericY\n",
    "\n",
    "Sort a list of tuples having fruit names and their quantity. [(\"mango\",99),(\"orange\",80), (\"grapes\", 1000)-\n",
    "\n",
    "Find the squares of numbers from 1 to 10Y\n",
    "\n",
    "Find the cube root of numbers from 1 to 10Y\n",
    "\n",
    "Check if a given number is evenY\n",
    "\n",
    "Filter odd numbers from the given list.\n",
    "[1,2,3,4,5,6,7,8,9,10]\n",
    "\n",
    "Sort a list of integers into positive and negative integers lists.\n",
    "[1,2,3,4,5,6,-1,-2,-3,-4,-5,0]"
   ]
  },
  {
   "cell_type": "code",
   "execution_count": 10,
   "id": "1287cfd4-3e08-4528-ba5e-f8f9a2f09537",
   "metadata": {},
   "outputs": [
    {
     "name": "stdout",
     "output_type": "stream",
     "text": [
      "True\n"
     ]
    }
   ],
   "source": [
    "#Check if the string starts with a particular letter\n",
    "user_input = \"shiva\"\n",
    "ans = lambda x:True if x[0] == \"s\" else False\n",
    "print(ans(user_input))"
   ]
  },
  {
   "cell_type": "code",
   "execution_count": 12,
   "id": "b7598251-80d8-4e94-b841-37e4fe4904c4",
   "metadata": {},
   "outputs": [
    {
     "name": "stdout",
     "output_type": "stream",
     "text": [
      "True\n"
     ]
    }
   ],
   "source": [
    "#Check if the string is numeric\n",
    "user_input = '678'\n",
    "check_correct = lambda input: True if input.isnumeric() else False\n",
    "print(check_correct(user_input))"
   ]
  },
  {
   "cell_type": "code",
   "execution_count": 13,
   "id": "047a047f-fadc-414e-8396-8ea2de41ad11",
   "metadata": {},
   "outputs": [
    {
     "name": "stdout",
     "output_type": "stream",
     "text": [
      "[('orange', 80), ('mango', 99), ('grapes', 1000)]\n"
     ]
    }
   ],
   "source": [
    "#Sort a list of tuples having fruit names and their quantity. [(\"mango\",99),(\"orange\",80), (\"grapes\", 1000)]\n",
    "list = [(\"mango\",99),(\"orange\",80), (\"grapes\", 1000)]\n",
    "list.sort(key=lambda x: x[1])\n",
    "print(list)"
   ]
  },
  {
   "cell_type": "code",
   "execution_count": 18,
   "id": "e859ba90-b298-4a35-b01d-48dcb1d37c51",
   "metadata": {},
   "outputs": [
    {
     "data": {
      "text/plain": [
       "[1, 4, 9, 16, 25, 36, 49, 64, 81, 100]"
      ]
     },
     "execution_count": 18,
     "metadata": {},
     "output_type": "execute_result"
    }
   ],
   "source": [
    "#Find the squares of numbers from 1 to 10\n",
    "[i**2 for i in range(1,11)]"
   ]
  },
  {
   "cell_type": "code",
   "execution_count": 19,
   "id": "e796ddae-73f4-4364-a735-8cd8c56dbc42",
   "metadata": {},
   "outputs": [
    {
     "data": {
      "text/plain": [
       "[1, 8, 27, 64, 125, 216, 343, 512, 729, 1000]"
      ]
     },
     "execution_count": 19,
     "metadata": {},
     "output_type": "execute_result"
    }
   ],
   "source": [
    "#Find the cube root of numbers from 1 to 10\n",
    "[(pow(i,2))*i for i in range(1,11)]"
   ]
  },
  {
   "cell_type": "code",
   "execution_count": 22,
   "id": "e0416921-d2c4-4537-bd10-ef95ec242492",
   "metadata": {},
   "outputs": [
    {
     "name": "stdin",
     "output_type": "stream",
     "text": [
      "Please enter your no.? 2\n"
     ]
    },
    {
     "name": "stdout",
     "output_type": "stream",
     "text": [
      "['True']\n"
     ]
    }
   ],
   "source": [
    "#Check if a given number is even\n",
    "user_input = int(input(\"Please enter your no.?\"))\n",
    "new_list =[]\n",
    "new_list.append(user_input)\n",
    "result  = [ \"True\" for num in new_list if num%2 ==0]\n",
    "print(result)"
   ]
  },
  {
   "cell_type": "code",
   "execution_count": 1,
   "id": "0318fbd7-e6da-485a-9e2a-1b13962c3be5",
   "metadata": {},
   "outputs": [
    {
     "name": "stdout",
     "output_type": "stream",
     "text": [
      "[1, 3, 5, 7, 9]\n"
     ]
    }
   ],
   "source": [
    "#Filter odd numbers from the given list.\n",
    "#[1,2,3,4,5,6,7,8,9,10]\n",
    "l = [1,2,3,4,5,6,7,8,9,10]\n",
    "a = list(filter(lambda x:x%2!=0,l))\n",
    "print(a)"
   ]
  },
  {
   "cell_type": "code",
   "execution_count": 2,
   "id": "878d51a7-c898-4266-8a83-ecbb01819703",
   "metadata": {},
   "outputs": [
    {
     "name": "stdout",
     "output_type": "stream",
     "text": [
      "[-5, -4, -3, -2, -1]\n",
      "[0, 1, 2, 3, 4, 5, 6]\n"
     ]
    }
   ],
   "source": [
    "#Sort a list of integers into positive and negative integers lists.\n",
    "test_list =  [1,2,3,4,5,6,-1,-2,-3,-4,-5,0]\n",
    "list_a = [num for num in test_list if num < 0]\n",
    "list_b = [num for num in test_list if num >=0]\n",
    "list_a.sort()\n",
    "list_b.sort()\n",
    "print(list_a)\n",
    "print(list_b)"
   ]
  },
  {
   "cell_type": "code",
   "execution_count": null,
   "id": "7c8c4593-3ee9-4610-b314-4853b75bc5e4",
   "metadata": {},
   "outputs": [],
   "source": []
  }
 ],
 "metadata": {
  "kernelspec": {
   "display_name": "Python 3 (ipykernel)",
   "language": "python",
   "name": "python3"
  },
  "language_info": {
   "codemirror_mode": {
    "name": "ipython",
    "version": 3
   },
   "file_extension": ".py",
   "mimetype": "text/x-python",
   "name": "python",
   "nbconvert_exporter": "python",
   "pygments_lexer": "ipython3",
   "version": "3.10.8"
  }
 },
 "nbformat": 4,
 "nbformat_minor": 5
}
