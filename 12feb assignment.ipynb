{
 "cells": [
  {
   "cell_type": "markdown",
   "id": "9ffbacf1-57e9-45db-bf88-c3cc4900fe0d",
   "metadata": {},
   "source": [
    "Q1. What is an Exception in pthon? Write the difference between Exceptions and Syntax error.\n",
    "\n",
    "* An Exception is an error that happens during the execution of a program. Whenever there is an error.\n",
    "* Exception is a object that represents an error\n",
    "* difference between Exceptions and Syntax error\n",
    "    - Syntax errors often called as parsing errors, are predominantly caused when the parser detects a syntactic issue in your code.\n",
    "    -  Python exceptions are errors that are detected during execution and are not unconditionally fatal."
   ]
  },
  {
   "cell_type": "markdown",
   "id": "3ac3e78a-1285-47c0-b426-f896c8bf25c3",
   "metadata": {},
   "source": [
    "Q2. What happens when exception is not handled? Explain with an example.\n",
    "\n",
    "* If an exception is not caught (with a catch block), the runtime system will abort the program (i.e. crash) and an exception message will print to the console.\n"
   ]
  },
  {
   "cell_type": "code",
   "execution_count": 15,
   "id": "0d2e73b8-d9ce-4758-b5ad-c842ef1b9fda",
   "metadata": {},
   "outputs": [
    {
     "ename": "ZeroDivisionError",
     "evalue": "division by zero",
     "output_type": "error",
     "traceback": [
      "\u001b[0;31m---------------------------------------------------------------------------\u001b[0m",
      "\u001b[0;31mZeroDivisionError\u001b[0m                         Traceback (most recent call last)",
      "Cell \u001b[0;32mIn[15], line 2\u001b[0m\n\u001b[1;32m      1\u001b[0m \u001b[38;5;66;03m#Example\u001b[39;00m\n\u001b[0;32m----> 2\u001b[0m a \u001b[38;5;241m=\u001b[39m \u001b[38;5;241;43m10\u001b[39;49m\u001b[38;5;241;43m/\u001b[39;49m\u001b[38;5;241;43m0\u001b[39;49m\n\u001b[1;32m      3\u001b[0m a\n\u001b[1;32m      4\u001b[0m \u001b[38;5;66;03m# The above code is not able to capture the exception so the code will crash.\u001b[39;00m\n",
      "\u001b[0;31mZeroDivisionError\u001b[0m: division by zero"
     ]
    }
   ],
   "source": [
    "#Example\n",
    "a = 10/0\n",
    "a\n",
    "# The above code is not able to capture the exception so the code will crash."
   ]
  },
  {
   "cell_type": "code",
   "execution_count": 16,
   "id": "b20fe4de-0cfa-454b-85a0-321deeb4e8ee",
   "metadata": {},
   "outputs": [
    {
     "name": "stdout",
     "output_type": "stream",
     "text": [
      "division by zero\n"
     ]
    }
   ],
   "source": [
    "# EXample\n",
    "try:\n",
    "    10/0\n",
    "except ZeroDivisionError as e:\n",
    "    print(e)\n",
    "# In above code except block is able to capture the exception so the code will not crash."
   ]
  },
  {
   "cell_type": "markdown",
   "id": "5f3108a1-7424-4239-bd2c-3a26ecd6ac2b",
   "metadata": {},
   "source": [
    "Q3. Which Python statements are used to catch and handle exceptions?Explain with an example.\n",
    "\n",
    "* (try and except) is used to catch the and handle exception."
   ]
  },
  {
   "cell_type": "code",
   "execution_count": 4,
   "id": "f954602a-79c5-44ef-a68a-18c7042b418c",
   "metadata": {},
   "outputs": [
    {
     "name": "stdout",
     "output_type": "stream",
     "text": [
      "10/0 :: division by zero\n"
     ]
    }
   ],
   "source": [
    "try:\n",
    "    a = 10/0\n",
    "    print(a)\n",
    "except ZeroDivisionError as e:\n",
    "    print(\"10/0 ::\",e)"
   ]
  },
  {
   "cell_type": "markdown",
   "id": "49a4a6a0-7d45-43d7-9d44-4d49934b9ad7",
   "metadata": {},
   "source": [
    "Q4. Explain with an example:\n",
    "\n",
    "    1.try and else\n",
    "    2.finally\n",
    "    3.raise"
   ]
  },
  {
   "cell_type": "code",
   "execution_count": 5,
   "id": "1e6dbf93-f0ca-440e-a73c-ca0accbdabbe",
   "metadata": {},
   "outputs": [
    {
     "name": "stdout",
     "output_type": "stream",
     "text": [
      "when try gets excuted successfully\n"
     ]
    }
   ],
   "source": [
    "# 1. try and else\n",
    "\n",
    "try:\n",
    "    a=4/2\n",
    "except ZeroDivisionError as e:\n",
    "    print(e)\n",
    "else:\n",
    "    print(\"when try gets excuted successfully\")"
   ]
  },
  {
   "cell_type": "code",
   "execution_count": 3,
   "id": "6a48525a-29a8-44d5-9c40-84cf16345acd",
   "metadata": {},
   "outputs": [
    {
     "name": "stdout",
     "output_type": "stream",
     "text": [
      "division by zero\n",
      "get excuted if try excute or not\n"
     ]
    }
   ],
   "source": [
    "# finally\n",
    "\n",
    "try:\n",
    "    a=4/0\n",
    "except ZeroDivisionError as e:\n",
    "    print(e)\n",
    "finally:\n",
    "    print('get excuted if try excute or not')"
   ]
  },
  {
   "cell_type": "code",
   "execution_count": 22,
   "id": "e7f8c87b-99a9-4e6f-98ea-3d1dc6f236c6",
   "metadata": {},
   "outputs": [
    {
     "ename": "Exception",
     "evalue": "The number shouldn't be an odd integer",
     "output_type": "error",
     "traceback": [
      "\u001b[0;31m---------------------------------------------------------------------------\u001b[0m",
      "\u001b[0;31mException\u001b[0m                                 Traceback (most recent call last)",
      "Cell \u001b[0;32mIn[22], line 6\u001b[0m\n\u001b[1;32m      4\u001b[0m a \u001b[38;5;241m=\u001b[39m \u001b[38;5;241m5\u001b[39m\n\u001b[1;32m      5\u001b[0m \u001b[38;5;28;01mif\u001b[39;00m a \u001b[38;5;241m%\u001b[39m \u001b[38;5;241m2\u001b[39m \u001b[38;5;241m!=\u001b[39m \u001b[38;5;241m0\u001b[39m:\n\u001b[0;32m----> 6\u001b[0m \t\u001b[38;5;28;01mraise\u001b[39;00m \u001b[38;5;167;01mException\u001b[39;00m(\u001b[38;5;124m\"\u001b[39m\u001b[38;5;124mThe number shouldn\u001b[39m\u001b[38;5;124m'\u001b[39m\u001b[38;5;124mt be an odd integer\u001b[39m\u001b[38;5;124m\"\u001b[39m)\n\u001b[1;32m      7\u001b[0m \u001b[38;5;28mprint\u001b[39m(\u001b[38;5;124m\"\u001b[39m\u001b[38;5;124mDone !!\u001b[39m\u001b[38;5;124m\"\u001b[39m)\n\u001b[1;32m      9\u001b[0m \u001b[38;5;66;03m# if a=4(any even) then (Done !!) will be printed.\u001b[39;00m\n",
      "\u001b[0;31mException\u001b[0m: The number shouldn't be an odd integer"
     ]
    }
   ],
   "source": [
    "# raise\n",
    "\n",
    "# The raise keyword raises an error and stops the control flow of the program.\n",
    "a = 5\n",
    "if a % 2 != 0:\n",
    "\traise Exception(\"The number shouldn't be an odd integer\")\n",
    "print(\"Done !!\")\n",
    "\n",
    "# if a=4(any even) then (Done !!) will be printed."
   ]
  },
  {
   "cell_type": "markdown",
   "id": "c583f195-2fc1-4202-b971-f39f755ea18f",
   "metadata": {},
   "source": [
    "Q5. What are Custom Exceptions in python? Why do we need Custom Exceptions? Explain with an example.\n",
    "\n",
    "* Custom Exception\n",
    "    - A custom exception in Python is an exception that we create ourself by defining a new class that inherits from the built-in Exception class. \n",
    "* need of custom exceptions\n",
    "    - Custom exceptions provide us the flexibility to add attributes and methods that are not part of a standard exception. "
   ]
  },
  {
   "cell_type": "code",
   "execution_count": 9,
   "id": "fcff1f99-3068-471c-8dee-d6f3074f61e2",
   "metadata": {},
   "outputs": [],
   "source": [
    "# Example\n",
    "\n",
    "class validateAge(Exception):\n",
    "    def __init__(self,msg):\n",
    "        self.msg = msg"
   ]
  },
  {
   "cell_type": "code",
   "execution_count": 10,
   "id": "38b00738-159c-4050-af6b-16decde2b6bc",
   "metadata": {},
   "outputs": [],
   "source": [
    "def takeage(age):\n",
    "    if age<0:\n",
    "        raise validateAge('less than 0 pls enter another number')\n",
    "    elif age>200:\n",
    "        raise validateAge('200!!')\n",
    "    else:\n",
    "        print('valid age !!')"
   ]
  },
  {
   "cell_type": "code",
   "execution_count": 11,
   "id": "3882f88c-c895-4f70-a365-04770c31d4f7",
   "metadata": {},
   "outputs": [
    {
     "name": "stdout",
     "output_type": "stream",
     "text": [
      "less than 0 pls enter another number\n"
     ]
    }
   ],
   "source": [
    "try:\n",
    "    age = int(-2)\n",
    "    takeage(age)\n",
    "except validateAge as e:\n",
    "    print(e)"
   ]
  },
  {
   "cell_type": "markdown",
   "id": "c53860fd-5285-44b6-8f72-6b9f881365ce",
   "metadata": {},
   "source": [
    "Q6. Create custom exception class. Use this class to handle an exception."
   ]
  },
  {
   "cell_type": "code",
   "execution_count": 1,
   "id": "2bd14813-b57d-4e44-a98e-5234e9768243",
   "metadata": {},
   "outputs": [],
   "source": [
    "# Custom exception\n",
    "\n",
    "class customException(Exception):\n",
    "    def __init__(self,msg):\n",
    "        self.msg = msg"
   ]
  },
  {
   "cell_type": "code",
   "execution_count": 2,
   "id": "4ca4498c-b867-41b9-9bd0-d6265d535be0",
   "metadata": {},
   "outputs": [],
   "source": [
    "def takeException(var):\n",
    "    if var <= 0:\n",
    "        raise customException(\"Please enter greater number\")\n",
    "    else:\n",
    "        print(\"Done !!\")"
   ]
  },
  {
   "cell_type": "code",
   "execution_count": 3,
   "id": "74e44661-6fe0-48f1-baac-1a43f9a5d386",
   "metadata": {},
   "outputs": [
    {
     "name": "stdout",
     "output_type": "stream",
     "text": [
      "Please enter greater number\n"
     ]
    }
   ],
   "source": [
    "try:\n",
    "    var = 0\n",
    "    takeException(var)\n",
    "except customException as e:\n",
    "    print(e)"
   ]
  },
  {
   "cell_type": "code",
   "execution_count": null,
   "id": "3c043727-5c13-4c88-9733-645327fd11e3",
   "metadata": {},
   "outputs": [],
   "source": []
  }
 ],
 "metadata": {
  "kernelspec": {
   "display_name": "Python 3 (ipykernel)",
   "language": "python",
   "name": "python3"
  },
  "language_info": {
   "codemirror_mode": {
    "name": "ipython",
    "version": 3
   },
   "file_extension": ".py",
   "mimetype": "text/x-python",
   "name": "python",
   "nbconvert_exporter": "python",
   "pygments_lexer": "ipython3",
   "version": "3.10.8"
  }
 },
 "nbformat": 4,
 "nbformat_minor": 5
}
