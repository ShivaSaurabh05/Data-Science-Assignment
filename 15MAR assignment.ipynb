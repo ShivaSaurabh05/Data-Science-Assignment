{
 "cells": [
  {
   "cell_type": "markdown",
   "id": "d609e798-5f6d-491e-9f80-bbb741d0e3e8",
   "metadata": {},
   "source": [
    "Q.) Explain the following with an example.\n",
    "1) Artificial Intelligence\n",
    "2) Machine Learning\n",
    "3) Deep Learning"
   ]
  },
  {
   "cell_type": "markdown",
   "id": "5dd415a1-ea38-49ab-8dc5-220f5c5d2b7b",
   "metadata": {},
   "source": [
    "* Artificial intelligence (AI) refers to the development of computer systems that can perform tasks that typically require human intelligence, such as visual perception, speech recognition, decision-making, and natural language processing. AI involves the development of algorithms and models that can learn from data and make predictions or decisions based on that learning.\n",
    "\n",
    "* Machine learning is a subfield of artificial intelligence that focuses on the development of algorithms and statistical models that enable computer systems to learn from and make predictions or decisions based on data without being explicitly programmed.\n",
    "\n",
    "* Deep learning is a subfield of machine learning that involves the development of neural networks with multiple layers of processing. These networks are inspired by the structure of the human brain and are designed to learn from large amounts of data."
   ]
  },
  {
   "cell_type": "code",
   "execution_count": null,
   "id": "91f0b86b-1ac0-4870-8eea-d7d094c06b8d",
   "metadata": {},
   "outputs": [],
   "source": []
  },
  {
   "cell_type": "markdown",
   "id": "d77bc49a-fa82-404e-bd5e-d6b56a072821",
   "metadata": {},
   "source": [
    "Q2: What is supervised learning? List some examples of supervised learning."
   ]
  },
  {
   "cell_type": "markdown",
   "id": "f3aa386a-4889-482b-a63d-ae44d73e4d08",
   "metadata": {},
   "source": [
    "* Supervised learning is a type of machine learning in which an algorithm learns to make predictions or decisions based on labeled examples of input-output pairs. In supervised learning, the algorithm is given a training dataset with labeled examples, and it learns to generalize to new, unseen data.\n",
    "\n",
    "* Examples:-Image classification, Speech recognition, Predicting housing prices"
   ]
  },
  {
   "cell_type": "code",
   "execution_count": null,
   "id": "403e659a-7892-4691-b0a2-e11c6f8addcf",
   "metadata": {},
   "outputs": [],
   "source": []
  },
  {
   "cell_type": "markdown",
   "id": "7c94dacc-befe-4f5a-b4d5-042e77709612",
   "metadata": {},
   "source": [
    "Q3: What is unsupervised learning? List some examples of unsupervised learning."
   ]
  },
  {
   "cell_type": "markdown",
   "id": "2ba3aef3-8c50-41de-b640-ae7e34b34f82",
   "metadata": {},
   "source": [
    "* Unsupervised learning is a type of machine learning in which an algorithm learns patterns and relationships in the data without being given explicit labeled examples. In unsupervised learning, the algorithm is given a dataset without any specific labels, and it learns to discover underlying patterns and structure in the data.\n",
    "\n",
    "* Examples :- Clustering, Anomaly detection"
   ]
  },
  {
   "cell_type": "code",
   "execution_count": null,
   "id": "8a44e22f-96fb-4314-837b-a315dadeef80",
   "metadata": {},
   "outputs": [],
   "source": []
  },
  {
   "cell_type": "markdown",
   "id": "d79dd2f0-abec-4650-8571-d6edf1c3e42a",
   "metadata": {},
   "source": [
    "Q4: What is the difference between AI, ML, DL, and DS?"
   ]
  },
  {
   "cell_type": "markdown",
   "id": "7243cbe4-82c3-4734-a7e0-f8dd96e092c7",
   "metadata": {},
   "source": [
    "* Artificial Intelligence (AI) refers to the development of computer systems that can perform tasks that typically require human intelligence, such as visual perception, speech recognition, decision-making, and natural language processing.\n",
    "\n",
    "* Machine Learning (ML) is a subfield of AI that focuses on the development of algorithms and statistical models that enable computer systems to learn from and make predictions or decisions based on data without being explicitly programmed.\n",
    "\n",
    "* Deep Learning (DL) is a subfield of ML that involves the development of neural networks with multiple layers of processing. These networks are inspired by the structure of the human brain and are designed to learn from large amounts of data.\n",
    "\n",
    "* Data Science (DS) is a broader field that involves the collection, processing, analysis, and interpretation of large and complex datasets using a combination of statistical, mathematical, and computational techniques. It encompasses various subfields, including ML and DL."
   ]
  },
  {
   "cell_type": "code",
   "execution_count": null,
   "id": "cfa92682-b673-44f0-a3ff-0605d3809ea2",
   "metadata": {},
   "outputs": [],
   "source": []
  },
  {
   "cell_type": "markdown",
   "id": "3b5254d2-7e6f-4647-8eba-3b3c30ba90a0",
   "metadata": {},
   "source": [
    "Q5: What are the main differences between supervised, unsupervised, and semi-supervised learning?"
   ]
  },
  {
   "cell_type": "markdown",
   "id": "9a2c4a00-b8b8-461b-a074-38b992babdff",
   "metadata": {},
   "source": [
    "* The main differences between these types of learning are:\n",
    "\n",
    "    - Supervised learning requires labeled data, while unsupervised learning does not require labeled data.\n",
    "    - Supervised learning is used for prediction tasks where the output value is known, while unsupervised learning is used for tasks such as clustering or dimensionality reduction where no specific output value is known.\n",
    "    - Semi-supervised learning is used when labeled data is scarce, and the algorithm can learn from both labeled and unlabeled examples."
   ]
  },
  {
   "cell_type": "code",
   "execution_count": null,
   "id": "c84e0dea-0f29-43ef-927c-c11c41283d9c",
   "metadata": {},
   "outputs": [],
   "source": []
  },
  {
   "cell_type": "markdown",
   "id": "8021b852-d264-4cad-a09e-fc2f12ca3628",
   "metadata": {},
   "source": [
    "Q6: What is train, test and validation split? Explain the importance of each term. "
   ]
  },
  {
   "cell_type": "markdown",
   "id": "8921c493-1931-4718-8628-9b598ce5c828",
   "metadata": {},
   "source": [
    "* Training set: The training set is the portion of the data used to train the machine learning model. During training, the model learns to map inputs to outputs based on the labeled examples in the training set.\n",
    "\n",
    "* Validation set: The validation set is used to tune the hyperparameters of the model, which are settings that affect the model's performance but are not learned during training. For example, the number of layers in a neural network is a hyperparameter. The validation set is used to test different values of the hyperparameters and choose the best ones.\n",
    "\n",
    "* Test set: The test set is used to evaluate the performance of the trained model on new, unseen data. The test set is used only once, after the model has been trained and the hyperparameters have been tuned. By evaluating the model on the test set, we can estimate how well the model will perform on new, unseen data.\n",
    "\n",
    "* The importance of each subset is as follows:\n",
    "\n",
    "    - Training set: The training set is the most important subset, as it is used to train the machine learning model. The model's performance on the training set is used to adjust the model's parameters and improve its performance.\n",
    "\n",
    "    - Validation set: The validation set is used to tune the hyperparameters of the model. Choosing the best hyperparameters is critical to achieving good performance on the test set.\n",
    "\n",
    "    - Test set: The test set is used to evaluate the model's performance on new, unseen data. The test set provides an unbiased estimate of the model's performance on new data, and is important for assessing the model's generalization ability."
   ]
  },
  {
   "cell_type": "code",
   "execution_count": null,
   "id": "b39abae0-389f-4775-9347-843115b44e1f",
   "metadata": {},
   "outputs": [],
   "source": []
  },
  {
   "cell_type": "markdown",
   "id": "233051e6-82ad-4a5a-aa07-6474b9c76917",
   "metadata": {},
   "source": [
    "Q7: How can unsupervised learning be used in anomaly detection?"
   ]
  },
  {
   "cell_type": "markdown",
   "id": "33abf034-d445-4274-8a35-4e18465acdc1",
   "metadata": {},
   "source": [
    "* Unsupervised learning can be used for anomaly detection by training a model on normal data and then using it to identify instances that do not fit the learned pattern. The idea is that anomalies, by definition, are rare events that deviate from the normal pattern, and unsupervised learning can help identify these deviations."
   ]
  },
  {
   "cell_type": "code",
   "execution_count": null,
   "id": "0ae0247e-4915-43c9-af06-c80eb86f240c",
   "metadata": {},
   "outputs": [],
   "source": []
  },
  {
   "cell_type": "markdown",
   "id": "0e08db36-588c-49f6-941a-27d93cbf1772",
   "metadata": {},
   "source": [
    "Q8: List down some commonly used supervised learning algorithms and unsupervised learning algorithms."
   ]
  },
  {
   "cell_type": "markdown",
   "id": "1337f308-cd55-4eed-a4b5-b8d1c8388d8e",
   "metadata": {},
   "source": [
    "* Supervised Learning Algorithms:\n",
    "\n",
    "    - Linear Regression\n",
    "    - Logistic Regression\n",
    "    - Decision Trees\n",
    "    - Random Forests\n",
    "    - Gradient Boosting Machines (GBMs)\n",
    "    - Support Vector Machines (SVMs)\n",
    "    - Naive Bayes\n",
    "    - K-Nearest Neighbors (KNN)\n",
    "    - Neural Networks\n",
    "\n",
    "* Unsupervised Learning Algorithms:\n",
    "\n",
    "    - K-Means Clustering\n",
    "    - Hierarchical Clustering\n",
    "    - Principal Component Analysis (PCA)\n",
    "    - Independent Component Analysis (ICA)\n",
    "    - t-Distributed Stochastic Neighbor Embedding (t-SNE)\n",
    "    - Autoencoders"
   ]
  },
  {
   "cell_type": "code",
   "execution_count": null,
   "id": "ad0228c2-0e6c-412b-a170-0b981830209e",
   "metadata": {},
   "outputs": [],
   "source": []
  }
 ],
 "metadata": {
  "kernelspec": {
   "display_name": "Python 3 (ipykernel)",
   "language": "python",
   "name": "python3"
  },
  "language_info": {
   "codemirror_mode": {
    "name": "ipython",
    "version": 3
   },
   "file_extension": ".py",
   "mimetype": "text/x-python",
   "name": "python",
   "nbconvert_exporter": "python",
   "pygments_lexer": "ipython3",
   "version": "3.10.8"
  }
 },
 "nbformat": 4,
 "nbformat_minor": 5
}
