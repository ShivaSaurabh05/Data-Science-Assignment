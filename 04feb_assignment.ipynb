{
 "cells": [
  {
   "cell_type": "markdown",
   "id": "db38c79a-c0cd-4588-ae9b-ee9c828e964a",
   "metadata": {},
   "source": [
    "Q1. Create a python program to sort the given list of tuples based on integer value using a  lambda function.\n",
    "\n",
    "[('Sachin Tendulkar', 34357), ('Ricky Ponting', 27483), ('Jack Kallis', 25534), ('Virat Kohli', 24936)] \n"
   ]
  },
  {
   "cell_type": "code",
   "execution_count": 19,
   "id": "b2d5be87-af56-4a5b-89dd-aa21b6ad6061",
   "metadata": {},
   "outputs": [
    {
     "name": "stdout",
     "output_type": "stream",
     "text": [
      "[('Virat Kohli', 24936), ('Jack Kallis', 25534), ('Ricky Ponting', 27483), ('Sachin Tendulkar', 34357)]\n"
     ]
    }
   ],
   "source": [
    "s = [('Sachin Tendulkar', 34357), ('Ricky Ponting', 27483), ('Jack Kallis', 25534), ('Virat Kohli', 24936)]\n",
    "s.sort(key=lambda x:x[1])\n",
    "print(s)"
   ]
  },
  {
   "cell_type": "markdown",
   "id": "c84bf1e5-7fb2-4ab8-b555-4793de192fa4",
   "metadata": {},
   "source": [
    "Q2. Write a Python Program to find the squares of all the numbers in the given list of integers using  lambda and map functions. \n",
    "\n",
    "[1, 2, 3, 4, 5, 6, 7, 8, 9, 10] \n"
   ]
  },
  {
   "cell_type": "code",
   "execution_count": 24,
   "id": "b7bec231-9f1e-4c31-8b8f-41bb480c68e0",
   "metadata": {},
   "outputs": [
    {
     "name": "stdout",
     "output_type": "stream",
     "text": [
      "[1, 4, 9, 16, 25, 36, 49, 64, 81, 100]\n"
     ]
    }
   ],
   "source": [
    "#using lambda and map function\n",
    "l = [1, 2, 3, 4, 5, 6, 7, 8, 9, 10]\n",
    "s = list(map(lambda x:x**2,l))\n",
    "print(s)"
   ]
  },
  {
   "cell_type": "markdown",
   "id": "c7aae261-6df1-4b7d-9957-6d470d5e4eeb",
   "metadata": {},
   "source": [
    "Q3. Write a python program to convert the given list of integers into a tuple of strings. Use map and  lambda functions \n",
    "\n",
    "Given String: [1, 2, 3, 4, 5, 6, 7, 8, 9, 10] \n",
    "\n",
    "Expected output: ('1', '2', '3', '4', '5', '6', '7', '8', '9', '10') \n"
   ]
  },
  {
   "cell_type": "code",
   "execution_count": 29,
   "id": "e4812b11-22b7-4a26-bbff-7f853c694e87",
   "metadata": {},
   "outputs": [
    {
     "data": {
      "text/plain": [
       "('1', '2', '3', '4', '5', '6', '7', '8', '9', '10')"
      ]
     },
     "execution_count": 29,
     "metadata": {},
     "output_type": "execute_result"
    }
   ],
   "source": [
    "given_list = [1, 2, 3, 4, 5, 6, 7, 8, 9, 10]\n",
    "tuple(map(lambda x:str(x),given_list))"
   ]
  },
  {
   "cell_type": "markdown",
   "id": "d004df27-b2a9-4dac-b3d2-ad4c1478d4d3",
   "metadata": {},
   "source": [
    "Q4.  Write a python program using reduce function to compute the product of a list containing numbers  from 1 to 25. "
   ]
  },
  {
   "cell_type": "code",
   "execution_count": 35,
   "id": "2f1d94fe-54c8-4bac-8ea5-6387f54ece41",
   "metadata": {},
   "outputs": [
    {
     "data": {
      "text/plain": [
       "15511210043330985984000000"
      ]
     },
     "execution_count": 35,
     "metadata": {},
     "output_type": "execute_result"
    }
   ],
   "source": [
    "from functools import reduce\n",
    "list_1_25 = [i for i in range(1,26)]\n",
    "reduce(lambda x,y: x*y,list_1_25)"
   ]
  },
  {
   "cell_type": "markdown",
   "id": "82978698-2ea7-4164-92af-9218676432bb",
   "metadata": {},
   "source": [
    "Q5. Write a python program to filter the numbers in a given list that are divisible by 2 and 3 using the  filter function.\n",
    "\n",
    "[2, 3, 6, 9, 27, 60, 90, 120, 55, 46] \n"
   ]
  },
  {
   "cell_type": "code",
   "execution_count": 37,
   "id": "7b37fbcb-0d3a-49b1-930d-cec381e01179",
   "metadata": {},
   "outputs": [
    {
     "data": {
      "text/plain": [
       "[6, 60, 90, 120]"
      ]
     },
     "execution_count": 37,
     "metadata": {},
     "output_type": "execute_result"
    }
   ],
   "source": [
    "l = [2, 3, 6, 9, 27, 60, 90, 120, 55, 46]\n",
    "list(filter(lambda x:x%2==0 and x%3 ==0,l))"
   ]
  },
  {
   "cell_type": "markdown",
   "id": "8bb5ccfc-eaeb-4170-8f62-46c03a8fec7d",
   "metadata": {},
   "source": [
    "Q6. Write a python program to find palindromes in the given list of strings using lambda and filter  function. \n",
    "\n",
    "['python', 'php', 'aba', 'radar', 'level'] \n"
   ]
  },
  {
   "cell_type": "code",
   "execution_count": 39,
   "id": "9b700652-7f44-41b4-8813-4e8aa3106eb3",
   "metadata": {},
   "outputs": [
    {
     "data": {
      "text/plain": [
       "['php', 'aba', 'radar', 'level']"
      ]
     },
     "execution_count": 39,
     "metadata": {},
     "output_type": "execute_result"
    }
   ],
   "source": [
    "given_list = ['python', 'php', 'aba', 'radar', 'level']\n",
    "list(filter(lambda x:x[::]==x[::-1],given_list))"
   ]
  },
  {
   "cell_type": "code",
   "execution_count": null,
   "id": "68f57c80-6ed8-45a4-aee4-a154012866ce",
   "metadata": {},
   "outputs": [],
   "source": []
  }
 ],
 "metadata": {
  "kernelspec": {
   "display_name": "Python 3 (ipykernel)",
   "language": "python",
   "name": "python3"
  },
  "language_info": {
   "codemirror_mode": {
    "name": "ipython",
    "version": 3
   },
   "file_extension": ".py",
   "mimetype": "text/x-python",
   "name": "python",
   "nbconvert_exporter": "python",
   "pygments_lexer": "ipython3",
   "version": "3.10.8"
  }
 },
 "nbformat": 4,
 "nbformat_minor": 5
}
